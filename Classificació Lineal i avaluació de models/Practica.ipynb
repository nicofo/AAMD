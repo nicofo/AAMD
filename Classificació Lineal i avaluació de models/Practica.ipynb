{
 "cells": [
  {
   "cell_type": "code",
   "execution_count": 11,
   "metadata": {
    "collapsed": false
   },
   "outputs": [
    {
     "name": "stderr",
     "output_type": "stream",
     "text": [
      "Updating HTML index of packages in '.Library'\n",
      "Making 'packages.html' ... done\n"
     ]
    }
   ],
   "source": [
    "\n",
    "install.packages('regsel',repos='http://cran.us.r-project.org')"
   ]
  },
  {
   "cell_type": "markdown",
   "metadata": {},
   "source": [
    "## Setup"
   ]
  },
  {
   "cell_type": "markdown",
   "metadata": {},
   "source": [
    "### Importació de les dades."
   ]
  },
  {
   "cell_type": "code",
   "execution_count": 2,
   "metadata": {
    "collapsed": false
   },
   "outputs": [],
   "source": [
    "library(ElemStatLearn)\n",
    "data(spam)\n",
    "wine<-read.csv('wine.csv',header=FALSE)\n",
    "colnames(wine)<-c(\"Type\",\"Alcohol\",\"Malic\",\"Ash\",\"Alcalinity\",\"Magnesium\",\"Phenols\",\"Flavonoids\",\"Nonflavonoids\",\"Proanthocyanins\",\"Color\",\"Hue\",\"Dilution\",\"Proline\")\n",
    "wine$Type <- as.factor(wine$Type)"
   ]
  },
  {
   "cell_type": "markdown",
   "metadata": {},
   "source": [
    "### Llibreries"
   ]
  },
  {
   "cell_type": "code",
   "execution_count": 3,
   "metadata": {
    "collapsed": false
   },
   "outputs": [],
   "source": [
    "library(class)"
   ]
  },
  {
   "cell_type": "markdown",
   "metadata": {},
   "source": [
    "## Classificació de Spam"
   ]
  },
  {
   "cell_type": "markdown",
   "metadata": {},
   "source": [
    "Descripció de les dades **TODO**"
   ]
  },
  {
   "cell_type": "code",
   "execution_count": 4,
   "metadata": {
    "collapsed": false,
    "scrolled": false
   },
   "outputs": [
    {
     "data": {
      "text/html": [
       "4601"
      ],
      "text/latex": [
       "4601"
      ],
      "text/markdown": [
       "4601"
      ],
      "text/plain": [
       "[1] 4601"
      ]
     },
     "metadata": {},
     "output_type": "display_data"
    }
   ],
   "source": [
    "nrow(spam)"
   ]
  },
  {
   "cell_type": "markdown",
   "metadata": {},
   "source": [
    "Veiem que el dataset és bastant gran aixi que utilitzarem com a model de predicció **k-fold cross-validation**. \n",
    "No utilitcem Leave-one-out per que seria poc eficient fer les 4601 fileres, tampoc utilitzarem boostrap ja que no tenim necessitat de ampliar la mostra.\n",
    "\n",
    "Utilitzarem un k de 10"
   ]
  },
  {
   "cell_type": "code",
   "execution_count": 17,
   "metadata": {
    "collapsed": false
   },
   "outputs": [],
   "source": [
    "#Desordenem el dataset\n",
    "spam<-spam[sample(nrow(spam)),]"
   ]
  },
  {
   "cell_type": "markdown",
   "metadata": {},
   "source": []
  },
  {
   "cell_type": "markdown",
   "metadata": {},
   "source": [
    "### Classificació per  K-nn\n",
    "Utilitzarem la funció *knn* que trobem al paquet *class*.\n",
    "Amb la quantitat de dades que hi han testejarem amb una k= 10 i 20."
   ]
  },
  {
   "cell_type": "markdown",
   "metadata": {},
   "source": [
    "#### K= 10"
   ]
  },
  {
   "cell_type": "code",
   "execution_count": 6,
   "metadata": {
    "collapsed": false,
    "scrolled": true
   },
   "outputs": [
    {
     "name": "stdout",
     "output_type": "stream",
     "text": [
      "\n",
      "Matriu confusio\n",
      "       Predicted\n",
      "True    email spam\n",
      "  email   231   58\n",
      "  spam     45  126\n",
      "preciso email  0.799308\n",
      "precisio spam  0.7368421\n",
      "\n",
      "Matriu confusio\n",
      "       Predicted\n",
      "True    email spam\n",
      "  email   221   48\n",
      "  spam     58  133\n",
      "preciso email  0.8215613\n",
      "precisio spam  0.6963351\n",
      "\n",
      "Matriu confusio\n",
      "       Predicted\n",
      "True    email spam\n",
      "  email   213   49\n",
      "  spam     59  139\n",
      "preciso email  0.8129771\n",
      "precisio spam  0.7020202\n",
      "\n",
      "Matriu confusio\n",
      "       Predicted\n",
      "True    email spam\n",
      "  email   236   44\n",
      "  spam     42  138\n",
      "preciso email  0.8428571\n",
      "precisio spam  0.7666667\n",
      "\n",
      "Matriu confusio\n",
      "       Predicted\n",
      "True    email spam\n",
      "  email   248   49\n",
      "  spam     43  120\n",
      "preciso email  0.8350168\n",
      "precisio spam  0.7361963\n",
      "\n",
      "Matriu confusio\n",
      "       Predicted\n",
      "True    email spam\n",
      "  email   233   38\n",
      "  spam     55  134\n",
      "preciso email  0.8597786\n",
      "precisio spam  0.7089947\n",
      "\n",
      "Matriu confusio\n",
      "       Predicted\n",
      "True    email spam\n",
      "  email   249   24\n",
      "  spam     47  140\n",
      "preciso email  0.9120879\n",
      "precisio spam  0.7486631\n",
      "\n",
      "Matriu confusio\n",
      "       Predicted\n",
      "True    email spam\n",
      "  email   244   41\n",
      "  spam     63  112\n",
      "preciso email  0.8561404\n",
      "precisio spam  0.64\n",
      "\n",
      "Matriu confusio\n",
      "       Predicted\n",
      "True    email spam\n",
      "  email   240   55\n",
      "  spam     46  119\n",
      "preciso email  0.8135593\n",
      "precisio spam  0.7212121\n",
      "\n",
      "Matriu confusio\n",
      "       Predicted\n",
      "True    email spam\n",
      "  email   220   46\n",
      "  spam     52  142\n",
      "preciso email  0.8270677\n",
      "precisio spam  0.7319588\n",
      "\n",
      "preciso email mitjana  0.8380354\n",
      "precisio spam mitjana  0.7188889"
     ]
    }
   ],
   "source": [
    "k<-10\n",
    "\n",
    "kfold<-10\n",
    "totalprecisio.email<-0\n",
    "totalprecisio.spam<-0\n",
    "for (i in 1:kfold){\n",
    "    ITest<-((nrow(spam)/kfold)*(i-1)+1):((nrow(spam)/kfold)*i)\n",
    "    spam.train<-spam[-ITest,-ncol(spam)]\n",
    "    spam.test<-spam[ITest,-ncol(spam)]\n",
    "    spam.Ytrain<-spam[-ITest,ncol(spam)]\n",
    "    spam.Ytest<-spam[ITest,ncol(spam)]\n",
    "    spam.Yhat<-knn(spam.train, spam.test, spam.Ytrain, k = k)\n",
    "    C<-table(\"True\"=spam.Ytest,\"Predicted\"=spam.Yhat)\n",
    "    cat('\\nMatriu confusio\\n')\n",
    "    print(C)\n",
    "    precisio.email<-C[1]/(C[1]+C[3])\n",
    "    precisio.spam<-C[4]/(C[2]+C[4])\n",
    "    cat('preciso email ',+precisio.email)\n",
    "    cat('\\nprecisio spam ',precisio.spam)\n",
    "    cat('\\n')\n",
    "    totalprecisio.email<-totalprecisio.email + precisio.email\n",
    "    totalprecisio.spam<-totalprecisio.spam + precisio.spam\n",
    "}\n",
    "cat('\\npreciso email mitjana ',totalprecisio.email/kfold)\n",
    "cat('\\nprecisio spam mitjana ',totalprecisio.spam/kfold)"
   ]
  },
  {
   "cell_type": "markdown",
   "metadata": {},
   "source": [
    "#### K= 20"
   ]
  },
  {
   "cell_type": "code",
   "execution_count": 69,
   "metadata": {
    "collapsed": false,
    "scrolled": true
   },
   "outputs": [
    {
     "name": "stdout",
     "output_type": "stream",
     "text": [
      "\n",
      "Matriu confusio\n",
      "       Predicted\n",
      "True    email spam\n",
      "  email   221   39\n",
      "  spam     61  139\n",
      "preciso email  0.85\n",
      "precisio spam  0.695\n",
      "\n",
      "Matriu confusio\n",
      "       Predicted\n",
      "True    email spam\n",
      "  email   244   49\n",
      "  spam     53  114\n",
      "preciso email  0.8327645\n",
      "precisio spam  0.6826347\n",
      "\n",
      "Matriu confusio\n",
      "       Predicted\n",
      "True    email spam\n",
      "  email   221   69\n",
      "  spam     51  119\n",
      "preciso email  0.762069\n",
      "precisio spam  0.7\n",
      "\n",
      "Matriu confusio\n",
      "       Predicted\n",
      "True    email spam\n",
      "  email   242   39\n",
      "  spam     64  115\n",
      "preciso email  0.86121\n",
      "precisio spam  0.6424581\n",
      "\n",
      "Matriu confusio\n",
      "       Predicted\n",
      "True    email spam\n",
      "  email   214   56\n",
      "  spam     42  148\n",
      "preciso email  0.7925926\n",
      "precisio spam  0.7789474\n",
      "\n",
      "Matriu confusio\n",
      "       Predicted\n",
      "True    email spam\n",
      "  email   242   52\n",
      "  spam     63  103\n",
      "preciso email  0.8231293\n",
      "precisio spam  0.6204819\n",
      "\n",
      "Matriu confusio\n",
      "       Predicted\n",
      "True    email spam\n",
      "  email   227   47\n",
      "  spam     49  137\n",
      "preciso email  0.8284672\n",
      "precisio spam  0.7365591\n",
      "\n",
      "Matriu confusio\n",
      "       Predicted\n",
      "True    email spam\n",
      "  email   233   50\n",
      "  spam     52  125\n",
      "preciso email  0.8233216\n",
      "precisio spam  0.7062147\n",
      "\n",
      "Matriu confusio\n",
      "       Predicted\n",
      "True    email spam\n",
      "  email   207   42\n",
      "  spam     68  143\n",
      "preciso email  0.8313253\n",
      "precisio spam  0.6777251\n",
      "\n",
      "Matriu confusio\n",
      "       Predicted\n",
      "True    email spam\n",
      "  email   240   54\n",
      "  spam     50  116\n",
      "preciso email  0.8163265\n",
      "precisio spam  0.6987952\n",
      "\n",
      "preciso email mitjana  0.8221206\n",
      "precisio spam mitjana  0.6938816"
     ]
    }
   ],
   "source": [
    "k<-20\n",
    "\n",
    "kfold<-10\n",
    "totalprecisio.email<-0\n",
    "totalprecisio.spam<-0\n",
    "for (i in 1:kfold){\n",
    "    ITest<-((nrow(spam)/kfold)*(i-1)+1):((nrow(spam)/kfold)*i)\n",
    "    spam.train<-spam[-ITest,-ncol(spam)]\n",
    "    spam.test<-spam[ITest,-ncol(spam)]\n",
    "    spam.Ytrain<-spam[-ITest,ncol(spam)]\n",
    "    spam.Ytest<-spam[ITest,ncol(spam)]\n",
    "    spam.Yhat<-knn(spam.train, spam.test, spam.Ytrain, k = k)\n",
    "    C<-table(\"True\"=spam.Ytest,\"Predicted\"=spam.Yhat)\n",
    "    cat('\\nMatriu confusio\\n')\n",
    "    print(C)\n",
    "    precisio.email<-C[1]/(C[1]+C[3])\n",
    "    precisio.spam<-C[4]/(C[2]+C[4])\n",
    "    cat('preciso email ',+precisio.email)\n",
    "    cat('\\nprecisio spam ',precisio.spam)\n",
    "    cat('\\n')\n",
    "    totalprecisio.email<-totalprecisio.email + precisio.email\n",
    "    totalprecisio.spam<-totalprecisio.spam + precisio.spam\n",
    "}\n",
    "cat('\\npreciso email mitjana ',totalprecisio.email/kfold)\n",
    "cat('\\nprecisio spam mitjana ',totalprecisio.spam/kfold)"
   ]
  },
  {
   "cell_type": "markdown",
   "metadata": {},
   "source": [
    "Veiem que optenim mes precisió en $k = 10$ que en $k = 20$. Encara que la precisió de predicció de spam és més baixa que amb email."
   ]
  },
  {
   "cell_type": "markdown",
   "metadata": {},
   "source": [
    "### Regresió logística"
   ]
  },
  {
   "cell_type": "markdown",
   "metadata": {},
   "source": [
    "Com que amb la regressió logística hi podem veure l'error de test no utilitzare **k-fold cross validation**.\n",
    "Si no que farem un **Hold-out**, on el 10% de les dades sera de test i la restra de train."
   ]
  },
  {
   "cell_type": "code",
   "execution_count": 23,
   "metadata": {
    "collapsed": false
   },
   "outputs": [],
   "source": [
    "x <- c(spam = 0, email = 1)\n",
    "spam.categorize<-spam[-nrow(spam)]\n",
    "spam.categorize$spam <- x[spam$spam]"
   ]
  },
  {
   "cell_type": "code",
   "execution_count": 24,
   "metadata": {
    "collapsed": false
   },
   "outputs": [
    {
     "name": "stderr",
     "output_type": "stream",
     "text": [
      "Warning message:\n",
      "“glm.fit: fitted probabilities numerically 0 or 1 occurred”"
     ]
    }
   ],
   "source": [
    "ITest<-sample(1:nrow(spam),nrow(spam)/10,replace=FALSE)\n",
    "spam.train<-spam[-ITest,]\n",
    "spam.test<-spam[ITest,]\n",
    "spam.logist<-glm(spam~.,data=spam.train,family=binomial)"
   ]
  },
  {
   "cell_type": "code",
   "execution_count": 25,
   "metadata": {
    "collapsed": false,
    "scrolled": true
   },
   "outputs": [
    {
     "data": {
      "text/plain": [
       "\n",
       "Call:\n",
       "glm(formula = spam ~ ., family = binomial, data = spam.train)\n",
       "\n",
       "Deviance Residuals: \n",
       "    Min       1Q   Median       3Q      Max  \n",
       "-4.0920  -0.1919   0.0000   0.1172   4.6034  \n",
       "\n",
       "Coefficients:\n",
       "              Estimate Std. Error z value Pr(>|z|)    \n",
       "(Intercept) -1.764e+00  1.697e-01 -10.396  < 2e-16 ***\n",
       "A.1         -3.368e-01  2.551e-01  -1.320 0.186741    \n",
       "A.2         -1.492e-01  7.400e-02  -2.016 0.043819 *  \n",
       "A.3          8.365e-02  1.162e-01   0.720 0.471637    \n",
       "A.4          2.265e+00  1.508e+00   1.502 0.133041    \n",
       "A.5          4.937e-01  1.025e-01   4.817 1.46e-06 ***\n",
       "A.6          8.778e-01  2.626e-01   3.343 0.000830 ***\n",
       "A.7          2.237e+00  3.382e-01   6.614 3.74e-11 ***\n",
       "A.8          5.968e-01  1.823e-01   3.273 0.001063 ** \n",
       "A.9          1.176e+00  3.279e-01   3.586 0.000336 ***\n",
       "A.10         3.678e-02  8.033e-02   0.458 0.647063    \n",
       "A.11        -6.305e-01  3.224e-01  -1.956 0.050502 .  \n",
       "A.12        -1.313e-01  7.692e-02  -1.707 0.087868 .  \n",
       "A.13        -6.522e-02  2.412e-01  -0.270 0.786877    \n",
       "A.14         2.741e-01  2.037e-01   1.345 0.178505    \n",
       "A.15         1.716e+00  9.213e-01   1.863 0.062488 .  \n",
       "A.16         9.823e-01  1.524e-01   6.445 1.15e-10 ***\n",
       "A.17         1.089e+00  2.515e-01   4.332 1.48e-05 ***\n",
       "A.18         1.167e-01  1.213e-01   0.962 0.335869    \n",
       "A.19         9.683e-02  3.744e-02   2.586 0.009699 ** \n",
       "A.20         9.566e-01  5.349e-01   1.788 0.073719 .  \n",
       "A.21         2.684e-01  5.841e-02   4.596 4.31e-06 ***\n",
       "A.22         1.768e-01  1.953e-01   0.905 0.365408    \n",
       "A.23         2.301e+00  5.044e-01   4.562 5.08e-06 ***\n",
       "A.24         3.376e-01  1.452e-01   2.326 0.020043 *  \n",
       "A.25        -2.211e+00  3.843e-01  -5.752 8.83e-09 ***\n",
       "A.26        -9.071e-01  4.761e-01  -1.905 0.056748 .  \n",
       "A.27        -9.407e+00  2.145e+00  -4.385 1.16e-05 ***\n",
       "A.28         3.583e-01  2.150e-01   1.666 0.095658 .  \n",
       "A.29        -2.250e+00  1.420e+00  -1.584 0.113157    \n",
       "A.30        -6.522e-01  4.361e-01  -1.495 0.134807    \n",
       "A.31        -1.792e-01  4.938e-01  -0.363 0.716686    \n",
       "A.32         2.579e+00  3.525e+00   0.732 0.464306    \n",
       "A.33        -8.021e-01  3.404e-01  -2.356 0.018450 *  \n",
       "A.34        -1.270e+01  4.091e+00  -3.104 0.001911 ** \n",
       "A.35        -2.167e+00  8.247e-01  -2.628 0.008580 ** \n",
       "A.36         9.797e-01  3.393e-01   2.887 0.003885 ** \n",
       "A.37         2.465e-02  1.808e-01   0.136 0.891553    \n",
       "A.38        -5.628e-01  4.278e-01  -1.315 0.188378    \n",
       "A.39        -9.348e-01  4.469e-01  -2.092 0.036470 *  \n",
       "A.40        -3.678e-01  3.587e-01  -1.025 0.305158    \n",
       "A.41        -4.345e+01  3.058e+01  -1.421 0.155338    \n",
       "A.42        -2.673e+00  9.350e-01  -2.859 0.004247 ** \n",
       "A.43        -1.323e+00  8.539e-01  -1.550 0.121239    \n",
       "A.44        -1.450e+00  5.389e-01  -2.690 0.007148 ** \n",
       "A.45        -7.918e-01  1.629e-01  -4.860 1.18e-06 ***\n",
       "A.46        -1.571e+00  3.057e-01  -5.138 2.78e-07 ***\n",
       "A.47        -2.078e+00  1.911e+00  -1.087 0.277056    \n",
       "A.48        -4.390e+00  2.141e+00  -2.050 0.040341 *  \n",
       "A.49        -1.397e+00  5.357e-01  -2.607 0.009130 ** \n",
       "A.50        -1.581e-01  2.549e-01  -0.620 0.535044    \n",
       "A.51        -1.458e+00  1.387e+00  -1.051 0.293300    \n",
       "A.52         2.705e-01  7.514e-02   3.600 0.000318 ***\n",
       "A.53         4.754e+00  7.106e-01   6.690 2.23e-11 ***\n",
       "A.54         2.444e+00  1.179e+00   2.074 0.038077 *  \n",
       "A.55         1.238e-01  5.030e-02   2.462 0.013833 *  \n",
       "A.56         7.016e-03  2.821e-03   2.487 0.012872 *  \n",
       "A.57         7.484e-04  2.365e-04   3.165 0.001553 ** \n",
       "---\n",
       "Signif. codes:  0 ‘***’ 0.001 ‘**’ 0.01 ‘*’ 0.05 ‘.’ 0.1 ‘ ’ 1\n",
       "\n",
       "(Dispersion parameter for binomial family taken to be 1)\n",
       "\n",
       "    Null deviance: 5561.2  on 4140  degrees of freedom\n",
       "Residual deviance: 1614.5  on 4083  degrees of freedom\n",
       "AIC: 1730.5\n",
       "\n",
       "Number of Fisher Scoring iterations: 13\n"
      ]
     },
     "metadata": {},
     "output_type": "display_data"
    },
    {
     "data": {
      "text/plain": [
       "       Predicted\n",
       "True      0   1\n",
       "  email 275  13\n",
       "  spam   26 146"
      ]
     },
     "metadata": {},
     "output_type": "display_data"
    }
   ],
   "source": [
    "summary(spam.logist)\n",
    "spam.pred<-predict(spam.logist,newdata=spam.test, type=\"response\")\n",
    "spam.pred.crisp<-1*(spam.pred>=0.5)\n",
    "C<-table(\"True\"=spam.test$spam,\"Predicted\"=spam.pred.crisp)\n",
    "C"
   ]
  },
  {
   "cell_type": "code",
   "execution_count": null,
   "metadata": {
    "collapsed": false,
    "scrolled": true
   },
   "outputs": [
    {
     "name": "stdout",
     "output_type": "stream",
     "text": [
      "Start:  AIC=1730.49\n",
      "spam ~ A.1 + A.2 + A.3 + A.4 + A.5 + A.6 + A.7 + A.8 + A.9 + \n",
      "    A.10 + A.11 + A.12 + A.13 + A.14 + A.15 + A.16 + A.17 + A.18 + \n",
      "    A.19 + A.20 + A.21 + A.22 + A.23 + A.24 + A.25 + A.26 + A.27 + \n",
      "    A.28 + A.29 + A.30 + A.31 + A.32 + A.33 + A.34 + A.35 + A.36 + \n",
      "    A.37 + A.38 + A.39 + A.40 + A.41 + A.42 + A.43 + A.44 + A.45 + \n",
      "    A.46 + A.47 + A.48 + A.49 + A.50 + A.51 + A.52 + A.53 + A.54 + \n",
      "    A.55 + A.56 + A.57\n",
      "\n"
     ]
    },
    {
     "name": "stderr",
     "output_type": "stream",
     "text": [
      "Warning message:\n",
      "“glm.fit: fitted probabilities numerically 0 or 1 occurred”Warning message:\n",
      "“glm.fit: fitted probabilities numerically 0 or 1 occurred”Warning message:\n",
      "“glm.fit: fitted probabilities numerically 0 or 1 occurred”Warning message:\n",
      "“glm.fit: fitted probabilities numerically 0 or 1 occurred”Warning message:\n",
      "“glm.fit: fitted probabilities numerically 0 or 1 occurred”Warning message:\n",
      "“glm.fit: fitted probabilities numerically 0 or 1 occurred”Warning message:\n",
      "“glm.fit: fitted probabilities numerically 0 or 1 occurred”Warning message:\n",
      "“glm.fit: fitted probabilities numerically 0 or 1 occurred”Warning message:\n",
      "“glm.fit: fitted probabilities numerically 0 or 1 occurred”Warning message:\n",
      "“glm.fit: fitted probabilities numerically 0 or 1 occurred”Warning message:\n",
      "“glm.fit: fitted probabilities numerically 0 or 1 occurred”Warning message:\n",
      "“glm.fit: fitted probabilities numerically 0 or 1 occurred”Warning message:\n",
      "“glm.fit: fitted probabilities numerically 0 or 1 occurred”Warning message:\n",
      "“glm.fit: fitted probabilities numerically 0 or 1 occurred”Warning message:\n",
      "“glm.fit: fitted probabilities numerically 0 or 1 occurred”Warning message:\n",
      "“glm.fit: algorithm did not converge”Warning message:\n",
      "“glm.fit: fitted probabilities numerically 0 or 1 occurred”Warning message:\n",
      "“glm.fit: fitted probabilities numerically 0 or 1 occurred”Warning message:\n",
      "“glm.fit: fitted probabilities numerically 0 or 1 occurred”Warning message:\n",
      "“glm.fit: fitted probabilities numerically 0 or 1 occurred”Warning message:\n",
      "“glm.fit: fitted probabilities numerically 0 or 1 occurred”Warning message:\n",
      "“glm.fit: fitted probabilities numerically 0 or 1 occurred”Warning message:\n",
      "“glm.fit: fitted probabilities numerically 0 or 1 occurred”Warning message:\n",
      "“glm.fit: algorithm did not converge”Warning message:\n",
      "“glm.fit: fitted probabilities numerically 0 or 1 occurred”Warning message:\n",
      "“glm.fit: fitted probabilities numerically 0 or 1 occurred”Warning message:\n",
      "“glm.fit: fitted probabilities numerically 0 or 1 occurred”Warning message:\n",
      "“glm.fit: fitted probabilities numerically 0 or 1 occurred”Warning message:\n",
      "“glm.fit: fitted probabilities numerically 0 or 1 occurred”Warning message:\n",
      "“glm.fit: fitted probabilities numerically 0 or 1 occurred”Warning message:\n",
      "“glm.fit: fitted probabilities numerically 0 or 1 occurred”Warning message:\n",
      "“glm.fit: fitted probabilities numerically 0 or 1 occurred”Warning message:\n",
      "“glm.fit: fitted probabilities numerically 0 or 1 occurred”Warning message:\n",
      "“glm.fit: fitted probabilities numerically 0 or 1 occurred”Warning message:\n",
      "“glm.fit: fitted probabilities numerically 0 or 1 occurred”Warning message:\n",
      "“glm.fit: fitted probabilities numerically 0 or 1 occurred”Warning message:\n",
      "“glm.fit: fitted probabilities numerically 0 or 1 occurred”Warning message:\n",
      "“glm.fit: algorithm did not converge”Warning message:\n",
      "“glm.fit: fitted probabilities numerically 0 or 1 occurred”Warning message:\n",
      "“glm.fit: fitted probabilities numerically 0 or 1 occurred”Warning message:\n",
      "“glm.fit: fitted probabilities numerically 0 or 1 occurred”Warning message:\n",
      "“glm.fit: fitted probabilities numerically 0 or 1 occurred”Warning message:\n",
      "“glm.fit: algorithm did not converge”Warning message:\n",
      "“glm.fit: fitted probabilities numerically 0 or 1 occurred”Warning message:\n",
      "“glm.fit: fitted probabilities numerically 0 or 1 occurred”Warning message:\n",
      "“glm.fit: fitted probabilities numerically 0 or 1 occurred”Warning message:\n",
      "“glm.fit: fitted probabilities numerically 0 or 1 occurred”Warning message:\n",
      "“glm.fit: fitted probabilities numerically 0 or 1 occurred”Warning message:\n",
      "“glm.fit: fitted probabilities numerically 0 or 1 occurred”Warning message:\n",
      "“glm.fit: algorithm did not converge”Warning message:\n",
      "“glm.fit: fitted probabilities numerically 0 or 1 occurred”Warning message:\n",
      "“glm.fit: fitted probabilities numerically 0 or 1 occurred”Warning message:\n",
      "“glm.fit: fitted probabilities numerically 0 or 1 occurred”Warning message:\n",
      "“glm.fit: fitted probabilities numerically 0 or 1 occurred”Warning message:\n",
      "“glm.fit: fitted probabilities numerically 0 or 1 occurred”Warning message:\n",
      "“glm.fit: fitted probabilities numerically 0 or 1 occurred”Warning message:\n",
      "“glm.fit: fitted probabilities numerically 0 or 1 occurred”Warning message:\n",
      "“glm.fit: fitted probabilities numerically 0 or 1 occurred”Warning message:\n",
      "“glm.fit: fitted probabilities numerically 0 or 1 occurred”Warning message:\n",
      "“glm.fit: fitted probabilities numerically 0 or 1 occurred”Warning message:\n",
      "“glm.fit: fitted probabilities numerically 0 or 1 occurred”Warning message:\n",
      "“glm.fit: fitted probabilities numerically 0 or 1 occurred”"
     ]
    },
    {
     "name": "stdout",
     "output_type": "stream",
     "text": [
      "       Df Deviance   AIC\n",
      "- A.37  1     1615  1729\n",
      "- A.13  1     1615  1729\n",
      "- A.10  1     1615  1729\n",
      "- A.31  1     1615  1729\n",
      "- A.50  1     1615  1729\n",
      "- A.3   1     1615  1729\n",
      "- A.32  1     1615  1729\n",
      "- A.18  1     1615  1729\n",
      "- A.22  1     1615  1729\n",
      "- A.47  1     1616  1730\n",
      "- A.14  1     1616  1730\n",
      "- A.1   1     1616  1730\n",
      "<none>        1614  1730\n",
      "- A.51  1     1617  1731\n",
      "- A.30  1     1617  1731\n",
      "- A.12  1     1618  1732\n",
      "- A.38  1     1618  1732\n",
      "- A.28  1     1618  1732\n",
      "- A.11  1     1618  1732\n",
      "- A.43  1     1619  1733\n",
      "- A.15  1     1619  1733\n",
      "- A.26  1     1620  1734\n",
      "- A.34  1     1620  1734\n",
      "- A.54  1     1621  1735\n",
      "- A.19  1     1621  1735\n",
      "- A.56  1     1621  1735\n",
      "- A.39  1     1622  1736\n",
      "- A.2   1     1622  1736\n",
      "- A.24  1     1623  1737\n",
      "- A.4   1     1623  1737\n",
      "- A.55  1     1623  1737\n",
      "- A.35  1     1623  1737\n",
      "- A.29  1     1624  1738\n",
      "- A.20  1     1625  1739\n",
      "- A.33  1     1626  1740\n",
      "- A.48  1     1627  1741\n",
      "- A.6   1     1629  1743\n",
      "- A.57  1     1629  1743\n",
      "- A.49  1     1629  1743\n",
      "- A.44  1     1630  1744\n",
      "- A.9   1     1630  1744\n",
      "- A.8   1     1631  1745\n",
      "- A.41  1     1634  1748\n",
      "- A.52  1     1634  1748\n",
      "- A.21  1     1637  1751\n",
      "- A.17  1     1640  1754\n",
      "- A.5   1     1643  1757\n",
      "- A.42  1     1656  1770\n",
      "- A.45  1     1656  1770\n",
      "- A.53  1     1682  1796\n",
      "- A.7   1     1702  1816\n",
      "- A.25  1     1729  1843\n",
      "- A.27  1     1816  1930\n",
      "- A.40  1    27682 27796\n",
      "- A.23  1    34025 34139\n",
      "- A.16  1    47289 47403\n",
      "- A.46  1    47433 47547\n",
      "- A.36  1    52191 52305\n"
     ]
    },
    {
     "name": "stderr",
     "output_type": "stream",
     "text": [
      "Warning message:\n",
      "“glm.fit: fitted probabilities numerically 0 or 1 occurred”"
     ]
    },
    {
     "name": "stdout",
     "output_type": "stream",
     "text": [
      "\n",
      "Step:  AIC=1728.51\n",
      "spam ~ A.1 + A.2 + A.3 + A.4 + A.5 + A.6 + A.7 + A.8 + A.9 + \n",
      "    A.10 + A.11 + A.12 + A.13 + A.14 + A.15 + A.16 + A.17 + A.18 + \n",
      "    A.19 + A.20 + A.21 + A.22 + A.23 + A.24 + A.25 + A.26 + A.27 + \n",
      "    A.28 + A.29 + A.30 + A.31 + A.32 + A.33 + A.34 + A.35 + A.36 + \n",
      "    A.38 + A.39 + A.40 + A.41 + A.42 + A.43 + A.44 + A.45 + A.46 + \n",
      "    A.47 + A.48 + A.49 + A.50 + A.51 + A.52 + A.53 + A.54 + A.55 + \n",
      "    A.56 + A.57\n",
      "\n"
     ]
    },
    {
     "name": "stderr",
     "output_type": "stream",
     "text": [
      "Warning message:\n",
      "“glm.fit: fitted probabilities numerically 0 or 1 occurred”Warning message:\n",
      "“glm.fit: fitted probabilities numerically 0 or 1 occurred”Warning message:\n",
      "“glm.fit: fitted probabilities numerically 0 or 1 occurred”Warning message:\n",
      "“glm.fit: fitted probabilities numerically 0 or 1 occurred”Warning message:\n",
      "“glm.fit: fitted probabilities numerically 0 or 1 occurred”Warning message:\n",
      "“glm.fit: fitted probabilities numerically 0 or 1 occurred”Warning message:\n",
      "“glm.fit: fitted probabilities numerically 0 or 1 occurred”Warning message:\n",
      "“glm.fit: fitted probabilities numerically 0 or 1 occurred”Warning message:\n",
      "“glm.fit: fitted probabilities numerically 0 or 1 occurred”Warning message:\n",
      "“glm.fit: fitted probabilities numerically 0 or 1 occurred”Warning message:\n",
      "“glm.fit: fitted probabilities numerically 0 or 1 occurred”Warning message:\n",
      "“glm.fit: fitted probabilities numerically 0 or 1 occurred”Warning message:\n",
      "“glm.fit: fitted probabilities numerically 0 or 1 occurred”Warning message:\n",
      "“glm.fit: fitted probabilities numerically 0 or 1 occurred”Warning message:\n",
      "“glm.fit: fitted probabilities numerically 0 or 1 occurred”Warning message:\n",
      "“glm.fit: algorithm did not converge”Warning message:\n",
      "“glm.fit: fitted probabilities numerically 0 or 1 occurred”Warning message:\n",
      "“glm.fit: fitted probabilities numerically 0 or 1 occurred”Warning message:\n",
      "“glm.fit: fitted probabilities numerically 0 or 1 occurred”Warning message:\n",
      "“glm.fit: fitted probabilities numerically 0 or 1 occurred”Warning message:\n",
      "“glm.fit: fitted probabilities numerically 0 or 1 occurred”Warning message:\n",
      "“glm.fit: fitted probabilities numerically 0 or 1 occurred”Warning message:\n",
      "“glm.fit: fitted probabilities numerically 0 or 1 occurred”Warning message:\n",
      "“glm.fit: algorithm did not converge”Warning message:\n",
      "“glm.fit: fitted probabilities numerically 0 or 1 occurred”Warning message:\n",
      "“glm.fit: fitted probabilities numerically 0 or 1 occurred”Warning message:\n",
      "“glm.fit: fitted probabilities numerically 0 or 1 occurred”Warning message:\n",
      "“glm.fit: fitted probabilities numerically 0 or 1 occurred”Warning message:\n",
      "“glm.fit: fitted probabilities numerically 0 or 1 occurred”Warning message:\n",
      "“glm.fit: fitted probabilities numerically 0 or 1 occurred”Warning message:\n",
      "“glm.fit: fitted probabilities numerically 0 or 1 occurred”Warning message:\n",
      "“glm.fit: fitted probabilities numerically 0 or 1 occurred”Warning message:\n",
      "“glm.fit: fitted probabilities numerically 0 or 1 occurred”Warning message:\n",
      "“glm.fit: fitted probabilities numerically 0 or 1 occurred”Warning message:\n",
      "“glm.fit: fitted probabilities numerically 0 or 1 occurred”Warning message:\n",
      "“glm.fit: fitted probabilities numerically 0 or 1 occurred”Warning message:\n",
      "“glm.fit: fitted probabilities numerically 0 or 1 occurred”Warning message:\n",
      "“glm.fit: algorithm did not converge”Warning message:\n",
      "“glm.fit: fitted probabilities numerically 0 or 1 occurred”Warning message:\n",
      "“glm.fit: fitted probabilities numerically 0 or 1 occurred”Warning message:\n",
      "“glm.fit: fitted probabilities numerically 0 or 1 occurred”Warning message:\n",
      "“glm.fit: algorithm did not converge”Warning message:\n",
      "“glm.fit: fitted probabilities numerically 0 or 1 occurred”Warning message:\n",
      "“glm.fit: fitted probabilities numerically 0 or 1 occurred”Warning message:\n",
      "“glm.fit: fitted probabilities numerically 0 or 1 occurred”Warning message:\n",
      "“glm.fit: fitted probabilities numerically 0 or 1 occurred”Warning message:\n",
      "“glm.fit: fitted probabilities numerically 0 or 1 occurred”Warning message:\n",
      "“glm.fit: fitted probabilities numerically 0 or 1 occurred”Warning message:\n",
      "“glm.fit: algorithm did not converge”Warning message:\n",
      "“glm.fit: fitted probabilities numerically 0 or 1 occurred”Warning message:\n",
      "“glm.fit: fitted probabilities numerically 0 or 1 occurred”Warning message:\n",
      "“glm.fit: fitted probabilities numerically 0 or 1 occurred”Warning message:\n",
      "“glm.fit: fitted probabilities numerically 0 or 1 occurred”Warning message:\n",
      "“glm.fit: fitted probabilities numerically 0 or 1 occurred”Warning message:\n",
      "“glm.fit: fitted probabilities numerically 0 or 1 occurred”Warning message:\n",
      "“glm.fit: fitted probabilities numerically 0 or 1 occurred”Warning message:\n",
      "“glm.fit: fitted probabilities numerically 0 or 1 occurred”Warning message:\n",
      "“glm.fit: fitted probabilities numerically 0 or 1 occurred”Warning message:\n",
      "“glm.fit: fitted probabilities numerically 0 or 1 occurred”Warning message:\n",
      "“glm.fit: fitted probabilities numerically 0 or 1 occurred”Warning message:\n",
      "“glm.fit: fitted probabilities numerically 0 or 1 occurred”"
     ]
    },
    {
     "name": "stdout",
     "output_type": "stream",
     "text": [
      "       Df Deviance   AIC\n",
      "- A.13  1     1615  1727\n",
      "- A.10  1     1615  1727\n",
      "- A.31  1     1615  1727\n",
      "- A.50  1     1615  1727\n",
      "- A.3   1     1615  1727\n",
      "- A.32  1     1615  1727\n",
      "- A.18  1     1615  1727\n",
      "- A.22  1     1615  1727\n",
      "- A.47  1     1616  1728\n",
      "- A.14  1     1616  1728\n",
      "- A.1   1     1616  1728\n",
      "<none>        1615  1729\n",
      "- A.51  1     1617  1729\n",
      "- A.30  1     1617  1729\n",
      "- A.38  1     1618  1730\n",
      "- A.12  1     1618  1730\n",
      "- A.28  1     1618  1730\n",
      "- A.11  1     1618  1730\n",
      "- A.43  1     1619  1731\n",
      "- A.15  1     1619  1731\n",
      "- A.26  1     1620  1732\n",
      "- A.34  1     1620  1732\n",
      "- A.54  1     1621  1733\n",
      "- A.19  1     1621  1733\n",
      "- A.56  1     1621  1733\n",
      "- A.39  1     1622  1734\n",
      "- A.2   1     1622  1734\n",
      "- A.24  1     1623  1735\n",
      "- A.4   1     1623  1735\n",
      "- A.55  1     1623  1735\n",
      "- A.35  1     1623  1735\n",
      "- A.29  1     1624  1736\n",
      "- A.20  1     1625  1737\n",
      "- A.33  1     1626  1738\n",
      "- A.48  1     1627  1739\n",
      "- A.6   1     1629  1741\n",
      "- A.57  1     1629  1741\n",
      "- A.49  1     1629  1741\n",
      "- A.44  1     1630  1742\n",
      "- A.9   1     1630  1742\n",
      "- A.8   1     1631  1743\n",
      "- A.41  1     1634  1746\n",
      "- A.52  1     1634  1746\n",
      "- A.21  1     1637  1749\n",
      "- A.17  1     1640  1752\n",
      "- A.5   1     1643  1755\n",
      "- A.42  1     1656  1768\n",
      "- A.45  1     1656  1768\n",
      "- A.53  1     1682  1794\n",
      "- A.7   1     1702  1814\n",
      "- A.25  1     1729  1841\n",
      "- A.27  1     1816  1928\n",
      "- A.40  1    30421 30533\n",
      "- A.16  1    31286 31398\n",
      "- A.23  1    33881 33993\n",
      "- A.36  1    35179 35291\n",
      "- A.46  1    44406 44518\n"
     ]
    },
    {
     "name": "stderr",
     "output_type": "stream",
     "text": [
      "Warning message:\n",
      "“glm.fit: fitted probabilities numerically 0 or 1 occurred”"
     ]
    },
    {
     "name": "stdout",
     "output_type": "stream",
     "text": [
      "\n",
      "Step:  AIC=1726.58\n",
      "spam ~ A.1 + A.2 + A.3 + A.4 + A.5 + A.6 + A.7 + A.8 + A.9 + \n",
      "    A.10 + A.11 + A.12 + A.14 + A.15 + A.16 + A.17 + A.18 + A.19 + \n",
      "    A.20 + A.21 + A.22 + A.23 + A.24 + A.25 + A.26 + A.27 + A.28 + \n",
      "    A.29 + A.30 + A.31 + A.32 + A.33 + A.34 + A.35 + A.36 + A.38 + \n",
      "    A.39 + A.40 + A.41 + A.42 + A.43 + A.44 + A.45 + A.46 + A.47 + \n",
      "    A.48 + A.49 + A.50 + A.51 + A.52 + A.53 + A.54 + A.55 + A.56 + \n",
      "    A.57\n",
      "\n"
     ]
    },
    {
     "name": "stderr",
     "output_type": "stream",
     "text": [
      "Warning message:\n",
      "“glm.fit: fitted probabilities numerically 0 or 1 occurred”Warning message:\n",
      "“glm.fit: fitted probabilities numerically 0 or 1 occurred”Warning message:\n",
      "“glm.fit: fitted probabilities numerically 0 or 1 occurred”Warning message:\n",
      "“glm.fit: fitted probabilities numerically 0 or 1 occurred”Warning message:\n",
      "“glm.fit: fitted probabilities numerically 0 or 1 occurred”Warning message:\n",
      "“glm.fit: fitted probabilities numerically 0 or 1 occurred”Warning message:\n",
      "“glm.fit: fitted probabilities numerically 0 or 1 occurred”Warning message:\n",
      "“glm.fit: fitted probabilities numerically 0 or 1 occurred”Warning message:\n",
      "“glm.fit: fitted probabilities numerically 0 or 1 occurred”Warning message:\n",
      "“glm.fit: fitted probabilities numerically 0 or 1 occurred”Warning message:\n",
      "“glm.fit: fitted probabilities numerically 0 or 1 occurred”"
     ]
    }
   ],
   "source": [
    "step(spam.logist)"
   ]
  },
  {
   "cell_type": "markdown",
   "metadata": {},
   "source": [
    "## Wine"
   ]
  },
  {
   "cell_type": "code",
   "execution_count": 18,
   "metadata": {
    "collapsed": false
   },
   "outputs": [
    {
     "data": {
      "text/html": [
       "178"
      ],
      "text/latex": [
       "178"
      ],
      "text/markdown": [
       "178"
      ],
      "text/plain": [
       "[1] 178"
      ]
     },
     "metadata": {},
     "output_type": "display_data"
    }
   ],
   "source": [
    "nrow(wine)"
   ]
  },
  {
   "cell_type": "markdown",
   "metadata": {},
   "source": [
    "vEiem que hi ha molt pocs necessitarem fer algun metode de resampling com boostrap"
   ]
  },
  {
   "cell_type": "markdown",
   "metadata": {
    "collapsed": true
   },
   "source": [
    "\n",
    "## Discriminador lineal de Fisher"
   ]
  },
  {
   "cell_type": "code",
   "execution_count": 7,
   "metadata": {
    "collapsed": false
   },
   "outputs": [],
   "source": [
    "library(MASS)"
   ]
  },
  {
   "cell_type": "code",
   "execution_count": 9,
   "metadata": {
    "collapsed": false
   },
   "outputs": [
    {
     "name": "stdout",
     "output_type": "stream",
     "text": [
      "\n",
      " length iTest  68 \n",
      "    Predicted\n",
      "True  1  2  3\n",
      "   1 24  0  0\n",
      "   2  1 26  0\n",
      "   3  0  1 16\n",
      "\n",
      "\n",
      " length iTest  63 \n",
      "    Predicted\n",
      "True  1  2  3\n",
      "   1 19  1  0\n",
      "   2  0 26  1\n",
      "   3  0  0 16\n",
      "\n",
      "\n",
      " length iTest  68 \n",
      "    Predicted\n",
      "True  1  2  3\n",
      "   1 27  0  0\n",
      "   2  1 21  0\n",
      "   3  0  1 18\n",
      "\n",
      "\n",
      " length iTest  65 \n",
      "    Predicted\n",
      "True  1  2  3\n",
      "   1 20  0  0\n",
      "   2  1 25  1\n",
      "   3  0  0 18\n",
      "\n",
      "\n",
      " length iTest  67 \n",
      "    Predicted\n",
      "True  1  2  3\n",
      "   1 23  0  0\n",
      "   2  0 26  0\n",
      "   3  0  0 18\n",
      "\n",
      "\n",
      " length iTest  67 \n",
      "    Predicted\n",
      "True  1  2  3\n",
      "   1 24  0  0\n",
      "   2  0 25  1\n",
      "   3  0  1 16\n",
      "\n",
      "\n",
      " length iTest  66 \n",
      "    Predicted\n",
      "True  1  2  3\n",
      "   1 21  0  0\n",
      "   2  0 30  0\n",
      "   3  0  0 15\n",
      "\n",
      "\n",
      " length iTest  65 \n",
      "    Predicted\n",
      "True  1  2  3\n",
      "   1 19  1  0\n",
      "   2  0 24  0\n",
      "   3  0  1 20\n",
      "\n",
      "\n",
      " length iTest  63 \n",
      "    Predicted\n",
      "True  1  2  3\n",
      "   1 19  0  0\n",
      "   2  2 28  1\n",
      "   3  0  0 13\n",
      "\n",
      "\n",
      " length iTest  73 \n",
      "    Predicted\n",
      "True  1  2  3\n",
      "   1 28  0  0\n",
      "   2  0 25  2\n",
      "   3  0  0 18\n",
      "\n"
     ]
    }
   ],
   "source": [
    "for (i in 1:10){\n",
    "    n<- nrow(wine)\n",
    "    iTrain<-sample(1:n,n,replace = TRUE)\n",
    "    wine.train<-wine[iTrain,]\n",
    "    wine.test<-wine[-iTrain,]\n",
    "    wine.lda1<-lda(Type~.,data=wine.train)\n",
    "    wine.pred<-predict(wine.lda1,newdata=wine.test,type=\"response\")\n",
    "    C<-table(\"True\"=wine.test$Type,\"Predicted\"=wine.pred$class)\n",
    "    cat(\"\\n length iTest \", nrow(wine.test),'\\n')\n",
    "    print(C)\n",
    "    cat(\"\\n\")\n",
    "}"
   ]
  },
  {
   "cell_type": "markdown",
   "metadata": {
    "collapsed": true
   },
   "source": [
    "## Conctrete"
   ]
  },
  {
   "cell_type": "code",
   "execution_count": 12,
   "metadata": {
    "collapsed": false
   },
   "outputs": [
    {
     "name": "stdout",
     "output_type": "stream",
     "text": [
      " num [1:1030, 1:9] 2.477 2.477 0.491 0.491 -0.79 ...\n",
      " - attr(*, \"dimnames\")=List of 2\n",
      "  ..$ : NULL\n",
      "  ..$ : chr [1:9] \"Cement\" \"BlastFurnaceSlag\" \"FlyAsh\" \"Water\" ...\n",
      " - attr(*, \"scaled:center\")= Named num [1:9] 281.2 73.9 54.2 181.6 6.2 ...\n",
      "  ..- attr(*, \"names\")= chr [1:9] \"Cement\" \"BlastFurnaceSlag\" \"FlyAsh\" \"Water\" ...\n",
      " - attr(*, \"scaled:scale\")= Named num [1:9] 104.51 86.28 64 21.35 5.97 ...\n",
      "  ..- attr(*, \"names\")= chr [1:9] \"Cement\" \"BlastFurnaceSlag\" \"FlyAsh\" \"Water\" ...\n",
      "'data.frame':\t1030 obs. of  9 variables:\n",
      " $ Cement             : num  2.477 2.477 0.491 0.491 -0.79 ...\n",
      " $ BlastFurnaceSlag   : num  -0.856 -0.856 0.795 0.795 0.678 ...\n",
      " $ FlyAsh             : num  -0.847 -0.847 -0.847 -0.847 -0.847 ...\n",
      " $ Water              : num  -0.916 -0.916 2.174 2.174 0.489 ...\n",
      " $ Superplasticizer   : num  -0.62 -0.62 -1.04 -1.04 -1.04 ...\n",
      " $ CoarseAggregate    : num  0.8627 1.0557 -0.5263 -0.5263 0.0705 ...\n",
      " $ FineAggregate      : num  -1.217 -1.217 -2.24 -2.24 0.648 ...\n",
      " $ Age                : num  -0.28 -0.28 3.55 5.06 4.98 ...\n",
      " $ CompressiveStrength: num  2.644 1.561 0.266 0.313 0.508 ...\n"
     ]
    }
   ],
   "source": [
    "require(regsel)\n",
    "data(concrete)\n",
    "\n",
    "conc.s<-scale(concrete)\n",
    "str(conc.s)\n",
    "\n",
    "conc.s.df<-as.data.frame(conc.s)\n",
    "str(conc.s.df)"
   ]
  },
  {
   "cell_type": "code",
   "execution_count": 14,
   "metadata": {
    "collapsed": false
   },
   "outputs": [
    {
     "data": {
      "text/plain": [
       "\n",
       "Call:\n",
       "lm(formula = Cement ~ BlastFurnaceSlag + FlyAsh + Water + Superplasticizer + \n",
       "    CoarseAggregate + FineAggregate + Age + CompressiveStrength, \n",
       "    data = conc.s.df)\n",
       "\n",
       "Residuals:\n",
       "     Min       1Q   Median       3Q      Max \n",
       "-1.11042 -0.22021 -0.03327  0.18994  1.76766 \n",
       "\n",
       "Coefficients:\n",
       "                      Estimate Std. Error t value Pr(>|t|)    \n",
       "(Intercept)         -6.559e-16  1.046e-02   0.000    1.000    \n",
       "BlastFurnaceSlag    -8.505e-01  1.303e-02 -65.278   <2e-16 ***\n",
       "FlyAsh              -7.413e-01  1.301e-02 -56.967   <2e-16 ***\n",
       "Water               -5.279e-01  2.245e-02 -23.515   <2e-16 ***\n",
       "Superplasticizer    -2.778e-02  1.807e-02  -1.537    0.125    \n",
       "CoarseAggregate     -5.540e-01  1.602e-02 -34.578   <2e-16 ***\n",
       "FineAggregate       -7.155e-01  1.637e-02 -43.724   <2e-16 ***\n",
       "Age                 -1.139e-01  1.276e-02  -8.929   <2e-16 ***\n",
       "CompressiveStrength  2.178e-01  1.543e-02  14.113   <2e-16 ***\n",
       "---\n",
       "Signif. codes:  0 ‘***’ 0.001 ‘**’ 0.01 ‘*’ 0.05 ‘.’ 0.1 ‘ ’ 1\n",
       "\n",
       "Residual standard error: 0.3356 on 1021 degrees of freedom\n",
       "Multiple R-squared:  0.8883,\tAdjusted R-squared:  0.8874 \n",
       "F-statistic:  1015 on 8 and 1021 DF,  p-value: < 2.2e-16\n"
      ]
     },
     "metadata": {},
     "output_type": "display_data"
    }
   ],
   "source": [
    "conc.ls1<-lm(Cement~BlastFurnaceSlag+FlyAsh+Water+Superplasticizer+CoarseAggregate+FineAggregate+Age+CompressiveStrength, data=conc.s.df)\n",
    "summary(conc.ls1)"
   ]
  },
  {
   "cell_type": "code",
   "execution_count": 15,
   "metadata": {
    "collapsed": false
   },
   "outputs": [
    {
     "name": "stdout",
     "output_type": "stream",
     "text": [
      "Start:  AIC=-2240.39\n",
      "Cement ~ BlastFurnaceSlag + FlyAsh + Water + Superplasticizer + \n",
      "    CoarseAggregate + FineAggregate + Age + CompressiveStrength\n",
      "\n",
      "                      Df Sum of Sq    RSS      AIC\n",
      "<none>                             114.97 -2240.39\n",
      "- Superplasticizer     1      0.27 115.24 -2240.01\n",
      "- Age                  1      8.98 123.95 -2164.95\n",
      "- CompressiveStrength  1     22.43 137.40 -2058.83\n",
      "- Water                1     62.27 177.24 -1796.61\n",
      "- CoarseAggregate      1    134.64 249.62 -1443.91\n",
      "- FineAggregate        1    215.28 330.25 -1155.58\n",
      "- FlyAsh               1    365.44 480.42  -769.54\n",
      "- BlastFurnaceSlag     1    479.85 594.82  -549.52\n"
     ]
    },
    {
     "data": {
      "text/plain": [
       "\n",
       "Call:\n",
       "lm(formula = Cement ~ BlastFurnaceSlag + FlyAsh + Water + Superplasticizer + \n",
       "    CoarseAggregate + FineAggregate + Age + CompressiveStrength, \n",
       "    data = conc.s.df)\n",
       "\n",
       "Coefficients:\n",
       "        (Intercept)     BlastFurnaceSlag               FlyAsh  \n",
       "         -6.559e-16           -8.505e-01           -7.413e-01  \n",
       "              Water     Superplasticizer      CoarseAggregate  \n",
       "         -5.279e-01           -2.778e-02           -5.540e-01  \n",
       "      FineAggregate                  Age  CompressiveStrength  \n",
       "         -7.155e-01           -1.139e-01            2.178e-01  \n"
      ]
     },
     "metadata": {},
     "output_type": "display_data"
    }
   ],
   "source": [
    "step(conc.ls1)"
   ]
  },
  {
   "cell_type": "code",
   "execution_count": null,
   "metadata": {
    "collapsed": true
   },
   "outputs": [],
   "source": []
  }
 ],
 "metadata": {
  "kernelspec": {
   "display_name": "R",
   "language": "R",
   "name": "ir"
  },
  "language_info": {
   "codemirror_mode": "r",
   "file_extension": ".r",
   "mimetype": "text/x-r-source",
   "name": "R",
   "pygments_lexer": "r",
   "version": "3.3.2"
  }
 },
 "nbformat": 4,
 "nbformat_minor": 0
}
