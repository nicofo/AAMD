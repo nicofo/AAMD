{
 "cells": [
  {
   "cell_type": "code",
   "execution_count": 2,
   "metadata": {
    "collapsed": false
   },
   "outputs": [
    {
     "name": "stderr",
     "output_type": "stream",
     "text": [
      "Warning message:\n",
      "“unable to access index for repository https://cran.r-project.org/src/contrib:\n",
      "  cannot download all files”Warning message:\n",
      "“package ‘devtools’ is not available (for R version 3.3.2)”"
     ]
    }
   ],
   "source": [
    "install.packages('ElemStatLearn')"
   ]
  },
  {
   "cell_type": "code",
   "execution_count": 8,
   "metadata": {
    "collapsed": false
   },
   "outputs": [
    {
     "name": "stderr",
     "output_type": "stream",
     "text": [
      "Loading required package: devtools\n",
      "Warning message in library(package, lib.loc = lib.loc, character.only = TRUE, logical.return = TRUE, :\n",
      "“there is no package called ‘devtools’”"
     ]
    }
   ],
   "source": [
    "require(devtools)"
   ]
  },
  {
   "cell_type": "code",
   "execution_count": 7,
   "metadata": {
    "collapsed": false
   },
   "outputs": [
    {
     "ename": "ERROR",
     "evalue": "Error in library(DAGG): there is no package called ‘DAGG’\n",
     "output_type": "error",
     "traceback": [
      "Error in library(DAGG): there is no package called ‘DAGG’\nTraceback:\n",
      "1. library(DAGG)",
      "2. stop(txt, domain = NA)"
     ]
    }
   ],
   "source": [
    "library(DAGG)"
   ]
  },
  {
   "cell_type": "code",
   "execution_count": null,
   "metadata": {
    "collapsed": false
   },
   "outputs": [],
   "source": []
  },
  {
   "cell_type": "code",
   "execution_count": 9,
   "metadata": {
    "collapsed": false
   },
   "outputs": [],
   "source": [
    "Steam<-read.table(\"Steam1.txt\", header=TRUE)"
   ]
  },
  {
   "cell_type": "code",
   "execution_count": 15,
   "metadata": {
    "collapsed": false
   },
   "outputs": [
    {
     "data": {
      "text/plain": [
       "\n",
       "Call:\n",
       "lm(formula = y ~ 1, data = Steam)\n",
       "\n",
       "Residuals:\n",
       "   Min     1Q Median     3Q    Max \n",
       "-3.064 -1.024 -0.284  1.516  3.086 \n",
       "\n",
       "Coefficients:\n",
       "            Estimate Std. Error t value Pr(>|t|)    \n",
       "(Intercept)   9.4240     0.3261    28.9   <2e-16 ***\n",
       "---\n",
       "Signif. codes:  0 ‘***’ 0.001 ‘**’ 0.01 ‘*’ 0.05 ‘.’ 0.1 ‘ ’ 1\n",
       "\n",
       "Residual standard error: 1.631 on 24 degrees of freedom\n"
      ]
     },
     "metadata": {},
     "output_type": "display_data"
    }
   ],
   "source": [
    "ls1<-lm(y~x1+x2+x3+x4+x5+x6+x7+x8+x9, data=Steam)\n",
    "ls0<-lm(y~1,data=Steam)\n",
    "summary(ls0)"
   ]
  },
  {
   "cell_type": "markdown",
   "metadata": {},
   "source": [
    "No te R-squared per que la estimacio($9.240$) Es igual a la mitjana de y"
   ]
  },
  {
   "cell_type": "code",
   "execution_count": 14,
   "metadata": {
    "collapsed": false
   },
   "outputs": [
    {
     "data": {
      "text/plain": [
       "\n",
       "Call:\n",
       "lm(formula = y ~ x1 + x2 + x3 + x4 + x5 + x6 + x7 + x8 + x9, \n",
       "    data = Steam)\n",
       "\n",
       "Residuals:\n",
       "    Min      1Q  Median      3Q     Max \n",
       "-1.0726 -0.3670  0.0758  0.2942  1.0436 \n",
       "\n",
       "Coefficients:\n",
       "             Estimate Std. Error t value Pr(>|t|)   \n",
       "(Intercept) -0.227769   7.833663  -0.029  0.97719   \n",
       "x1           0.197252   0.635859   0.310  0.76067   \n",
       "x2           5.763660   4.466510   1.290  0.21644   \n",
       "x3           1.985020   0.861398   2.304  0.03592 * \n",
       "x4           0.132288   0.231817   0.571  0.57668   \n",
       "x5          -0.046401   0.060859  -0.762  0.45762   \n",
       "x6          -0.005743   0.027373  -0.210  0.83664   \n",
       "x7          -0.069204   0.018456  -3.750  0.00193 **\n",
       "x8          -0.139526   0.060742  -2.297  0.03643 * \n",
       "x9          -0.318685   0.239128  -1.333  0.20252   \n",
       "---\n",
       "Signif. codes:  0 ‘***’ 0.001 ‘**’ 0.01 ‘*’ 0.05 ‘.’ 0.1 ‘ ’ 1\n",
       "\n",
       "Residual standard error: 0.644 on 15 degrees of freedom\n",
       "Multiple R-squared:  0.9025,\tAdjusted R-squared:  0.844 \n",
       "F-statistic: 15.43 on 9 and 15 DF,  p-value: 4.667e-06\n"
      ]
     },
     "metadata": {},
     "output_type": "display_data"
    }
   ],
   "source": [
    "summary(ls1)"
   ]
  },
  {
   "cell_type": "code",
   "execution_count": 17,
   "metadata": {
    "collapsed": false
   },
   "outputs": [
    {
     "data": {
      "text/html": [
       "<table>\n",
       "<thead><tr><th></th><th scope=col>Df</th><th scope=col>Sum of Sq</th><th scope=col>RSS</th><th scope=col>AIC</th></tr></thead>\n",
       "<tbody>\n",
       "\t<tr><th scope=row>&lt;none&gt;</th><td>NA      </td><td>      NA</td><td>63.81580</td><td>25.42812</td></tr>\n",
       "\t<tr><th scope=row>x1</th><td> 1      </td><td>9.369767</td><td>54.44603</td><td>23.45835</td></tr>\n",
       "</tbody>\n",
       "</table>\n"
      ],
      "text/latex": [
       "\\begin{tabular}{r|llll}\n",
       "  & Df & Sum of Sq & RSS & AIC\\\\\n",
       "\\hline\n",
       "\t<none> & NA       &       NA & 63.81580 & 25.42812\\\\\n",
       "\tx1 &  1       & 9.369767 & 54.44603 & 23.45835\\\\\n",
       "\\end{tabular}\n"
      ],
      "text/markdown": [
       "\n",
       "| <!--/--> | Df | Sum of Sq | RSS | AIC | \n",
       "|---|---|\n",
       "| <none> | NA       |       NA | 63.81580 | 25.42812 | \n",
       "| x1 |  1       | 9.369767 | 54.44603 | 23.45835 | \n",
       "\n",
       "\n"
      ],
      "text/plain": [
       "       Df Sum of Sq RSS      AIC     \n",
       "<none> NA       NA  63.81580 25.42812\n",
       "x1      1 9.369767  54.44603 23.45835"
      ]
     },
     "metadata": {},
     "output_type": "display_data"
    }
   ],
   "source": [
    "add1(ls0,\"x1\")"
   ]
  },
  {
   "cell_type": "markdown",
   "metadata": {},
   "source": [
    "add1(ls0,\"x1\") es com fer ls0.1<-lm(y~1+x1, data=\"Steam\")\n",
    "\n",
    "Veiem que la predicció ha millorat(Per que baixa la RSS, suma de quadrats residuals)\n",
    "\n",
    "RSS Sempre baixa cada vegada que posem una nova variable, AIC baixa si la variable millora la predixio si no puja."
   ]
  },
  {
   "cell_type": "code",
   "execution_count": 18,
   "metadata": {
    "collapsed": false
   },
   "outputs": [
    {
     "data": {
      "text/html": [
       "<table>\n",
       "<thead><tr><th></th><th scope=col>Df</th><th scope=col>Sum of Sq</th><th scope=col>RSS</th><th scope=col>AIC</th></tr></thead>\n",
       "<tbody>\n",
       "\t<tr><th scope=row>&lt;none&gt;</th><td>NA      </td><td>      NA</td><td>63.81580</td><td>25.42812</td></tr>\n",
       "\t<tr><th scope=row>x2</th><td> 1      </td><td>5.957714</td><td>57.85809</td><td>24.97793</td></tr>\n",
       "</tbody>\n",
       "</table>\n"
      ],
      "text/latex": [
       "\\begin{tabular}{r|llll}\n",
       "  & Df & Sum of Sq & RSS & AIC\\\\\n",
       "\\hline\n",
       "\t<none> & NA       &       NA & 63.81580 & 25.42812\\\\\n",
       "\tx2 &  1       & 5.957714 & 57.85809 & 24.97793\\\\\n",
       "\\end{tabular}\n"
      ],
      "text/markdown": [
       "\n",
       "| <!--/--> | Df | Sum of Sq | RSS | AIC | \n",
       "|---|---|\n",
       "| <none> | NA       |       NA | 63.81580 | 25.42812 | \n",
       "| x2 |  1       | 5.957714 | 57.85809 | 24.97793 | \n",
       "\n",
       "\n"
      ],
      "text/plain": [
       "       Df Sum of Sq RSS      AIC     \n",
       "<none> NA       NA  63.81580 25.42812\n",
       "x2      1 5.957714  57.85809 24.97793"
      ]
     },
     "metadata": {},
     "output_type": "display_data"
    }
   ],
   "source": [
    "add1(ls0,\"x2\")"
   ]
  },
  {
   "cell_type": "code",
   "execution_count": 19,
   "metadata": {
    "collapsed": false
   },
   "outputs": [
    {
     "data": {
      "text/html": [
       "<table>\n",
       "<thead><tr><th></th><th scope=col>Df</th><th scope=col>Sum of Sq</th><th scope=col>RSS</th><th scope=col>AIC</th></tr></thead>\n",
       "<tbody>\n",
       "\t<tr><th scope=row>&lt;none&gt;</th><td>NA      </td><td>     NA </td><td>63.8158 </td><td>25.42812</td></tr>\n",
       "\t<tr><th scope=row>x3</th><td> 1      </td><td>14.3566 </td><td>49.4592 </td><td>21.05681</td></tr>\n",
       "</tbody>\n",
       "</table>\n"
      ],
      "text/latex": [
       "\\begin{tabular}{r|llll}\n",
       "  & Df & Sum of Sq & RSS & AIC\\\\\n",
       "\\hline\n",
       "\t<none> & NA       &      NA  & 63.8158  & 25.42812\\\\\n",
       "\tx3 &  1       & 14.3566  & 49.4592  & 21.05681\\\\\n",
       "\\end{tabular}\n"
      ],
      "text/markdown": [
       "\n",
       "| <!--/--> | Df | Sum of Sq | RSS | AIC | \n",
       "|---|---|\n",
       "| <none> | NA       |      NA  | 63.8158  | 25.42812 | \n",
       "| x3 |  1       | 14.3566  | 49.4592  | 21.05681 | \n",
       "\n",
       "\n"
      ],
      "text/plain": [
       "       Df Sum of Sq RSS     AIC     \n",
       "<none> NA      NA   63.8158 25.42812\n",
       "x3      1 14.3566   49.4592 21.05681"
      ]
     },
     "metadata": {},
     "output_type": "display_data"
    }
   ],
   "source": [
    "add1(ls0,\"x3\")"
   ]
  },
  {
   "cell_type": "code",
   "execution_count": 20,
   "metadata": {
    "collapsed": false
   },
   "outputs": [
    {
     "data": {
      "text/html": [
       "<table>\n",
       "<thead><tr><th></th><th scope=col>Df</th><th scope=col>Sum of Sq</th><th scope=col>RSS</th><th scope=col>AIC</th></tr></thead>\n",
       "<tbody>\n",
       "\t<tr><th scope=row>&lt;none&gt;</th><td>NA      </td><td>     NA </td><td>63.81580</td><td>25.42812</td></tr>\n",
       "\t<tr><th scope=row>x4</th><td> 1      </td><td>1.19318 </td><td>62.62262</td><td>26.95627</td></tr>\n",
       "</tbody>\n",
       "</table>\n"
      ],
      "text/latex": [
       "\\begin{tabular}{r|llll}\n",
       "  & Df & Sum of Sq & RSS & AIC\\\\\n",
       "\\hline\n",
       "\t<none> & NA       &      NA  & 63.81580 & 25.42812\\\\\n",
       "\tx4 &  1       & 1.19318  & 62.62262 & 26.95627\\\\\n",
       "\\end{tabular}\n"
      ],
      "text/markdown": [
       "\n",
       "| <!--/--> | Df | Sum of Sq | RSS | AIC | \n",
       "|---|---|\n",
       "| <none> | NA       |      NA  | 63.81580 | 25.42812 | \n",
       "| x4 |  1       | 1.19318  | 62.62262 | 26.95627 | \n",
       "\n",
       "\n"
      ],
      "text/plain": [
       "       Df Sum of Sq RSS      AIC     \n",
       "<none> NA      NA   63.81580 25.42812\n",
       "x4      1 1.19318   62.62262 26.95627"
      ]
     },
     "metadata": {},
     "output_type": "display_data"
    }
   ],
   "source": [
    "add1(ls0,\"x4\")"
   ]
  },
  {
   "cell_type": "markdown",
   "metadata": {},
   "source": [
    "Veiem que la variable x4 no aporta a la reggressió aixi que la trauriam"
   ]
  },
  {
   "cell_type": "code",
   "execution_count": 21,
   "metadata": {
    "collapsed": false
   },
   "outputs": [
    {
     "data": {
      "text/plain": [
       "\n",
       "Call:\n",
       "lm(formula = y ~ 1, data = Steam)\n",
       "\n",
       "Residuals:\n",
       "   Min     1Q Median     3Q    Max \n",
       "-3.064 -1.024 -0.284  1.516  3.086 \n",
       "\n",
       "Coefficients:\n",
       "            Estimate Std. Error t value Pr(>|t|)    \n",
       "(Intercept)   9.4240     0.3261    28.9   <2e-16 ***\n",
       "---\n",
       "Signif. codes:  0 ‘***’ 0.001 ‘**’ 0.01 ‘*’ 0.05 ‘.’ 0.1 ‘ ’ 1\n",
       "\n",
       "Residual standard error: 1.631 on 24 degrees of freedom\n"
      ]
     },
     "metadata": {},
     "output_type": "display_data"
    }
   ],
   "source": [
    "summary(ls0)"
   ]
  },
  {
   "cell_type": "markdown",
   "metadata": {},
   "source": [
    "Amb drop1(ls1,'x1') podem anar treient predictors. I aixi veurem si millora l'AIC"
   ]
  },
  {
   "cell_type": "code",
   "execution_count": 22,
   "metadata": {
    "collapsed": false
   },
   "outputs": [
    {
     "data": {
      "text/html": [
       "<table>\n",
       "<thead><tr><th></th><th scope=col>Df</th><th scope=col>Sum of Sq</th><th scope=col>RSS</th><th scope=col>AIC</th></tr></thead>\n",
       "<tbody>\n",
       "\t<tr><th scope=row>&lt;none&gt;</th><td>NA        </td><td>        NA</td><td>6.221437  </td><td>-14.77187 </td></tr>\n",
       "\t<tr><th scope=row>x1</th><td> 1        </td><td>0.03991365</td><td>6.261351  </td><td>-16.61200 </td></tr>\n",
       "</tbody>\n",
       "</table>\n"
      ],
      "text/latex": [
       "\\begin{tabular}{r|llll}\n",
       "  & Df & Sum of Sq & RSS & AIC\\\\\n",
       "\\hline\n",
       "\t<none> & NA         &         NA & 6.221437   & -14.77187 \\\\\n",
       "\tx1 &  1         & 0.03991365 & 6.261351   & -16.61200 \\\\\n",
       "\\end{tabular}\n"
      ],
      "text/markdown": [
       "\n",
       "| <!--/--> | Df | Sum of Sq | RSS | AIC | \n",
       "|---|---|\n",
       "| <none> | NA         |         NA | 6.221437   | -14.77187  | \n",
       "| x1 |  1         | 0.03991365 | 6.261351   | -16.61200  | \n",
       "\n",
       "\n"
      ],
      "text/plain": [
       "       Df Sum of Sq  RSS      AIC      \n",
       "<none> NA         NA 6.221437 -14.77187\n",
       "x1      1 0.03991365 6.261351 -16.61200"
      ]
     },
     "metadata": {},
     "output_type": "display_data"
    }
   ],
   "source": [
    "drop1(ls1,'x1')"
   ]
  },
  {
   "cell_type": "markdown",
   "metadata": {},
   "source": [
    "Veiem que millora treien X1"
   ]
  },
  {
   "cell_type": "code",
   "execution_count": 24,
   "metadata": {
    "collapsed": false
   },
   "outputs": [
    {
     "data": {
      "text/html": [
       "<table>\n",
       "<thead><tr><th></th><th scope=col>Df</th><th scope=col>Sum of Sq</th><th scope=col>RSS</th><th scope=col>AIC</th></tr></thead>\n",
       "<tbody>\n",
       "\t<tr><th scope=row>&lt;none&gt;</th><td>NA       </td><td>       NA</td><td>6.221437 </td><td>-14.77187</td></tr>\n",
       "\t<tr><th scope=row>x2</th><td> 1       </td><td>0.6906524</td><td>6.912090 </td><td>-14.14010</td></tr>\n",
       "</tbody>\n",
       "</table>\n"
      ],
      "text/latex": [
       "\\begin{tabular}{r|llll}\n",
       "  & Df & Sum of Sq & RSS & AIC\\\\\n",
       "\\hline\n",
       "\t<none> & NA        &        NA & 6.221437  & -14.77187\\\\\n",
       "\tx2 &  1        & 0.6906524 & 6.912090  & -14.14010\\\\\n",
       "\\end{tabular}\n"
      ],
      "text/markdown": [
       "\n",
       "| <!--/--> | Df | Sum of Sq | RSS | AIC | \n",
       "|---|---|\n",
       "| <none> | NA        |        NA | 6.221437  | -14.77187 | \n",
       "| x2 |  1        | 0.6906524 | 6.912090  | -14.14010 | \n",
       "\n",
       "\n"
      ],
      "text/plain": [
       "       Df Sum of Sq RSS      AIC      \n",
       "<none> NA        NA 6.221437 -14.77187\n",
       "x2      1 0.6906524 6.912090 -14.14010"
      ]
     },
     "metadata": {},
     "output_type": "display_data"
    }
   ],
   "source": [
    "drop1(ls1,'x2')"
   ]
  },
  {
   "cell_type": "markdown",
   "metadata": {},
   "source": [
    "El x2 no l'hauriem de treure, empitjora"
   ]
  },
  {
   "cell_type": "code",
   "execution_count": 25,
   "metadata": {
    "collapsed": false
   },
   "outputs": [
    {
     "data": {
      "text/html": [
       "<table>\n",
       "<thead><tr><th></th><th scope=col>Df</th><th scope=col>Sum of Sq</th><th scope=col>RSS</th><th scope=col>AIC</th></tr></thead>\n",
       "<tbody>\n",
       "\t<tr><th scope=row>&lt;none&gt;</th><td>NA        </td><td>      NA  </td><td>6.221437  </td><td>-14.771871</td></tr>\n",
       "\t<tr><th scope=row>x3</th><td> 1        </td><td>2.202529  </td><td>8.423966  </td><td> -9.194876</td></tr>\n",
       "</tbody>\n",
       "</table>\n"
      ],
      "text/latex": [
       "\\begin{tabular}{r|llll}\n",
       "  & Df & Sum of Sq & RSS & AIC\\\\\n",
       "\\hline\n",
       "\t<none> & NA         &       NA   & 6.221437   & -14.771871\\\\\n",
       "\tx3 &  1         & 2.202529   & 8.423966   &  -9.194876\\\\\n",
       "\\end{tabular}\n"
      ],
      "text/markdown": [
       "\n",
       "| <!--/--> | Df | Sum of Sq | RSS | AIC | \n",
       "|---|---|\n",
       "| <none> | NA         |       NA   | 6.221437   | -14.771871 | \n",
       "| x3 |  1         | 2.202529   | 8.423966   |  -9.194876 | \n",
       "\n",
       "\n"
      ],
      "text/plain": [
       "       Df Sum of Sq RSS      AIC       \n",
       "<none> NA       NA  6.221437 -14.771871\n",
       "x3      1 2.202529  8.423966  -9.194876"
      ]
     },
     "metadata": {},
     "output_type": "display_data"
    }
   ],
   "source": [
    "drop1(ls1,'x3')"
   ]
  },
  {
   "cell_type": "code",
   "execution_count": 26,
   "metadata": {
    "collapsed": false
   },
   "outputs": [
    {
     "data": {
      "text/html": [
       "<table>\n",
       "<thead><tr><th></th><th scope=col>Df</th><th scope=col>Sum of Sq</th><th scope=col>RSS</th><th scope=col>AIC</th></tr></thead>\n",
       "<tbody>\n",
       "\t<tr><th scope=row>&lt;none&gt;</th><td>NA       </td><td>       NA</td><td>6.221437 </td><td>-14.77187</td></tr>\n",
       "\t<tr><th scope=row>x4</th><td> 1       </td><td>0.1350676</td><td>6.356505 </td><td>-16.23493</td></tr>\n",
       "</tbody>\n",
       "</table>\n"
      ],
      "text/latex": [
       "\\begin{tabular}{r|llll}\n",
       "  & Df & Sum of Sq & RSS & AIC\\\\\n",
       "\\hline\n",
       "\t<none> & NA        &        NA & 6.221437  & -14.77187\\\\\n",
       "\tx4 &  1        & 0.1350676 & 6.356505  & -16.23493\\\\\n",
       "\\end{tabular}\n"
      ],
      "text/markdown": [
       "\n",
       "| <!--/--> | Df | Sum of Sq | RSS | AIC | \n",
       "|---|---|\n",
       "| <none> | NA        |        NA | 6.221437  | -14.77187 | \n",
       "| x4 |  1        | 0.1350676 | 6.356505  | -16.23493 | \n",
       "\n",
       "\n"
      ],
      "text/plain": [
       "       Df Sum of Sq RSS      AIC      \n",
       "<none> NA        NA 6.221437 -14.77187\n",
       "x4      1 0.1350676 6.356505 -16.23493"
      ]
     },
     "metadata": {},
     "output_type": "display_data"
    }
   ],
   "source": [
    "drop1(ls1,'x4')"
   ]
  },
  {
   "cell_type": "markdown",
   "metadata": {},
   "source": [
    "step(ls1) fa automaticament el que estabam fent. Li hem de pasar un amb tots els predictors o sense ningun.\n",
    "\n",
    "Step ja hanira treient d'un en un tots el predictors i elimina de la recta el que tingui una menor AIC"
   ]
  },
  {
   "cell_type": "code",
   "execution_count": 27,
   "metadata": {
    "collapsed": false
   },
   "outputs": [
    {
     "name": "stdout",
     "output_type": "stream",
     "text": [
      "Start:  AIC=-14.77\n",
      "y ~ x1 + x2 + x3 + x4 + x5 + x6 + x7 + x8 + x9\n",
      "\n",
      "       Df Sum of Sq     RSS      AIC\n",
      "- x6    1    0.0183  6.2397 -16.6986\n",
      "- x1    1    0.0399  6.2614 -16.6120\n",
      "- x4    1    0.1351  6.3565 -16.2349\n",
      "- x5    1    0.2411  6.4625 -15.8213\n",
      "<none>               6.2214 -14.7719\n",
      "- x2    1    0.6907  6.9121 -14.1401\n",
      "- x9    1    0.7366  6.9581 -13.9743\n",
      "- x8    1    2.1884  8.4098  -9.2369\n",
      "- x3    1    2.2025  8.4240  -9.1949\n",
      "- x7    1    5.8314 12.0529  -0.2394\n",
      "\n",
      "Step:  AIC=-16.7\n",
      "y ~ x1 + x2 + x3 + x4 + x5 + x7 + x8 + x9\n",
      "\n",
      "       Df Sum of Sq     RSS      AIC\n",
      "- x1    1    0.0462  6.2859 -18.5142\n",
      "- x4    1    0.1455  6.3852 -18.1223\n",
      "- x5    1    0.2587  6.4984 -17.6829\n",
      "<none>               6.2397 -16.6986\n",
      "- x2    1    0.6959  6.9356 -16.0551\n",
      "- x9    1    0.7437  6.9834 -15.8837\n",
      "- x8    1    2.1822  8.4219 -11.2011\n",
      "- x3    1    2.1981  8.4378 -11.1539\n",
      "- x7    1   11.7123 17.9520   7.7207\n",
      "\n",
      "Step:  AIC=-18.51\n",
      "y ~ x2 + x3 + x4 + x5 + x7 + x8 + x9\n",
      "\n",
      "       Df Sum of Sq     RSS      AIC\n",
      "- x4    1    0.3000  6.5859 -19.3485\n",
      "- x5    1    0.3598  6.6457 -19.1228\n",
      "<none>               6.2859 -18.5142\n",
      "- x9    1    0.7015  6.9874 -17.8692\n",
      "- x8    1    2.5254  8.8113 -12.0710\n",
      "- x3    1    2.5653  8.8512 -11.9581\n",
      "- x2    1    4.7390 11.0249  -6.4679\n",
      "- x7    1   11.6798 17.9657   5.7397\n",
      "\n",
      "Step:  AIC=-19.35\n",
      "y ~ x2 + x3 + x5 + x7 + x8 + x9\n",
      "\n",
      "       Df Sum of Sq     RSS      AIC\n",
      "<none>               6.5859 -19.3485\n",
      "- x5    1    0.6317  7.2176 -19.0587\n",
      "- x9    1    1.1531  7.7391 -17.3149\n",
      "- x3    1    2.8405  9.4265 -12.3839\n",
      "- x8    1    2.9010  9.4869 -12.2240\n",
      "- x2    1    7.2384 13.8243  -2.8112\n",
      "- x7    1   12.5365 19.1225   5.2997\n"
     ]
    },
    {
     "data": {
      "text/plain": [
       "\n",
       "Call:\n",
       "lm(formula = y ~ x2 + x3 + x5 + x7 + x8 + x9, data = Steam)\n",
       "\n",
       "Coefficients:\n",
       "(Intercept)           x2           x3           x5           x7           x8  \n",
       "    3.47721      7.88356      2.15116     -0.06817     -0.06783     -0.15287  \n",
       "         x9  \n",
       "   -0.37100  \n"
      ]
     },
     "metadata": {},
     "output_type": "display_data"
    }
   ],
   "source": [
    "step(ls1)"
   ]
  },
  {
   "cell_type": "code",
   "execution_count": 30,
   "metadata": {
    "collapsed": false
   },
   "outputs": [
    {
     "data": {
      "text/plain": [
       "\n",
       "Call:\n",
       "lm(formula = y ~ x2 + x3 + x5 + x7 + x8 + x9, data = Steam)\n",
       "\n",
       "Residuals:\n",
       "    Min      1Q  Median      3Q     Max \n",
       "-1.0485 -0.3045  0.1538  0.3685  1.1343 \n",
       "\n",
       "Coefficients:\n",
       "            Estimate Std. Error t value Pr(>|t|)    \n",
       "(Intercept)  3.47721    3.01586   1.153 0.264002    \n",
       "x2           7.88356    1.77245   4.448 0.000311 ***\n",
       "x3           2.15116    0.77205   2.786 0.012189 *  \n",
       "x5          -0.06817    0.05188  -1.314 0.205350    \n",
       "x7          -0.06783    0.01159  -5.854 1.52e-05 ***\n",
       "x8          -0.15287    0.05429  -2.816 0.011442 *  \n",
       "x9          -0.37100    0.20898  -1.775 0.092761 .  \n",
       "---\n",
       "Signif. codes:  0 ‘***’ 0.001 ‘**’ 0.01 ‘*’ 0.05 ‘.’ 0.1 ‘ ’ 1\n",
       "\n",
       "Residual standard error: 0.6049 on 18 degrees of freedom\n",
       "Multiple R-squared:  0.8968,\tAdjusted R-squared:  0.8624 \n",
       "F-statistic: 26.07 on 6 and 18 DF,  p-value: 6.011e-08\n"
      ]
     },
     "metadata": {},
     "output_type": "display_data"
    }
   ],
   "source": [
    "ls.optim1<-lm(y ~ x2 + x3 + x5 + x7 + x8 + x9,data=Steam)\n",
    "summary(ls.optim1)"
   ]
  },
  {
   "cell_type": "markdown",
   "metadata": {},
   "source": [
    "\n",
    "Podem fer step al reves"
   ]
  },
  {
   "cell_type": "code",
   "execution_count": 31,
   "metadata": {
    "collapsed": false
   },
   "outputs": [
    {
     "name": "stdout",
     "output_type": "stream",
     "text": [
      "Start:  AIC=25.43\n",
      "y ~ 1\n",
      "\n",
      "       Df Sum of Sq    RSS     AIC\n",
      "+ x7    1    45.592 18.223 -3.9042\n",
      "+ x6    1    26.192 37.624 14.2192\n",
      "+ x3    1    14.357 49.459 21.0568\n",
      "+ x5    1    10.739 53.077 22.8216\n",
      "+ x8    1     9.934 53.882 23.1981\n",
      "+ x1    1     9.370 54.446 23.4584\n",
      "+ x9    1     9.318 54.497 23.4820\n",
      "+ x2    1     5.958 57.858 24.9779\n",
      "<none>              63.816 25.4281\n",
      "+ x4    1     1.193 62.623 26.9563\n",
      "\n",
      "Step:  AIC=-3.9\n",
      "y ~ x7\n",
      "\n",
      "       Df Sum of Sq    RSS      AIC\n",
      "+ x1    1     9.292  8.931 -19.7327\n",
      "+ x2    1     8.438  9.785 -17.4508\n",
      "+ x5    1     3.140 15.084  -6.6317\n",
      "+ x4    1     2.623 15.600  -5.7902\n",
      "+ x9    1     2.236 15.988  -5.1763\n",
      "+ x6    1     1.712 16.511  -4.3711\n",
      "<none>              18.223  -3.9042\n",
      "+ x8    1     0.359 17.864  -2.4022\n",
      "+ x3    1     0.224 17.999  -2.2134\n",
      "- x7    1    45.592 63.816  25.4281\n",
      "\n",
      "Step:  AIC=-19.73\n",
      "y ~ x7 + x1\n",
      "\n",
      "       Df Sum of Sq    RSS      AIC\n",
      "<none>               8.931 -19.7327\n",
      "+ x9    1     0.319  8.612 -18.6433\n",
      "+ x4    1     0.238  8.693 -18.4090\n",
      "+ x6    1     0.032  8.899 -17.8228\n",
      "+ x8    1     0.015  8.917 -17.7738\n",
      "+ x2    1     0.004  8.927 -17.7449\n",
      "+ x5    1     0.003  8.929 -17.7404\n",
      "+ x3    1     0.000  8.931 -17.7338\n",
      "- x1    1     9.292 18.223  -3.9042\n",
      "- x7    1    45.515 54.446  23.4584\n"
     ]
    },
    {
     "data": {
      "text/plain": [
       "\n",
       "Call:\n",
       "lm(formula = y ~ x7 + x1, data = Steam)\n",
       "\n",
       "Coefficients:\n",
       "(Intercept)           x7           x1  \n",
       "    9.47422     -0.07976      0.76165  \n"
      ]
     },
     "metadata": {},
     "output_type": "display_data"
    }
   ],
   "source": [
    "step(ls0,\"~x1+x2+x3+x4+x5+x6+x7+x8+x9\")"
   ]
  },
  {
   "cell_type": "markdown",
   "metadata": {},
   "source": [
    "Ens ha donat un altre subconjunt amb menys predictors pero amb una AIC mes petita. \n",
    "\n",
    "El package leaps fa totes les convinacions de predictors.\n"
   ]
  },
  {
   "cell_type": "markdown",
   "metadata": {
    "slideshow": {
     "slide_type": "-"
    }
   },
   "source": [
    "# Comentaris a l'entrega"
   ]
  },
  {
   "cell_type": "code",
   "execution_count": 45,
   "metadata": {
    "collapsed": false,
    "scrolled": false
   },
   "outputs": [
    {
     "data": {
      "text/plain": [
       "      crim                zn             indus            chas        \n",
       " Min.   : 0.00632   Min.   :  0.00   Min.   : 0.46   Min.   :0.00000  \n",
       " 1st Qu.: 0.08204   1st Qu.:  0.00   1st Qu.: 5.19   1st Qu.:0.00000  \n",
       " Median : 0.25651   Median :  0.00   Median : 9.69   Median :0.00000  \n",
       " Mean   : 3.61352   Mean   : 11.36   Mean   :11.14   Mean   :0.06917  \n",
       " 3rd Qu.: 3.67708   3rd Qu.: 12.50   3rd Qu.:18.10   3rd Qu.:0.00000  \n",
       " Max.   :88.97620   Max.   :100.00   Max.   :27.74   Max.   :1.00000  \n",
       "      nox               rm             age              dis        \n",
       " Min.   :0.3850   Min.   :3.561   Min.   :  2.90   Min.   : 1.130  \n",
       " 1st Qu.:0.4490   1st Qu.:5.886   1st Qu.: 45.02   1st Qu.: 2.100  \n",
       " Median :0.5380   Median :6.208   Median : 77.50   Median : 3.207  \n",
       " Mean   :0.5547   Mean   :6.285   Mean   : 68.57   Mean   : 3.795  \n",
       " 3rd Qu.:0.6240   3rd Qu.:6.623   3rd Qu.: 94.08   3rd Qu.: 5.188  \n",
       " Max.   :0.8710   Max.   :8.780   Max.   :100.00   Max.   :12.127  \n",
       "      rad              tax           ptratio          black       \n",
       " Min.   : 1.000   Min.   :187.0   Min.   :12.60   Min.   :  0.32  \n",
       " 1st Qu.: 4.000   1st Qu.:279.0   1st Qu.:17.40   1st Qu.:375.38  \n",
       " Median : 5.000   Median :330.0   Median :19.05   Median :391.44  \n",
       " Mean   : 9.549   Mean   :408.2   Mean   :18.46   Mean   :356.67  \n",
       " 3rd Qu.:24.000   3rd Qu.:666.0   3rd Qu.:20.20   3rd Qu.:396.23  \n",
       " Max.   :24.000   Max.   :711.0   Max.   :22.00   Max.   :396.90  \n",
       "     lstat            medv      \n",
       " Min.   : 1.73   Min.   : 5.00  \n",
       " 1st Qu.: 6.95   1st Qu.:17.02  \n",
       " Median :11.36   Median :21.20  \n",
       " Mean   :12.65   Mean   :22.53  \n",
       " 3rd Qu.:16.95   3rd Qu.:25.00  \n",
       " Max.   :37.97   Max.   :50.00  "
      ]
     },
     "metadata": {},
     "output_type": "display_data"
    }
   ],
   "source": [
    "require(MASS)\n",
    "data(Boston)\n",
    "summary(Boston)"
   ]
  },
  {
   "cell_type": "markdown",
   "metadata": {},
   "source": []
  }
 ],
 "metadata": {
  "kernelspec": {
   "display_name": "R",
   "language": "R",
   "name": "ir"
  },
  "language_info": {
   "codemirror_mode": "r",
   "file_extension": ".r",
   "mimetype": "text/x-r-source",
   "name": "R",
   "pygments_lexer": "r",
   "version": "3.3.2"
  }
 },
 "nbformat": 4,
 "nbformat_minor": 0
}
