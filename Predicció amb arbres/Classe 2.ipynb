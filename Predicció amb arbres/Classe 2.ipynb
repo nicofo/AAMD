{
 "cells": [
  {
   "cell_type": "markdown",
   "metadata": {},
   "source": [
    "## Detalls de rpart"
   ]
  },
  {
   "cell_type": "code",
   "execution_count": 16,
   "metadata": {
    "collapsed": false
   },
   "outputs": [
    {
     "name": "stdout",
     "output_type": "stream",
     "text": [
      "'data.frame':\t250 obs. of  3 variables:\n",
      " $ xs: num  0.051 -0.748 -0.773 0.218 0.373 ...\n",
      " $ ys: num  0.161 0.089 0.263 0.127 0.497 ...\n",
      " $ yc: int  0 0 0 0 0 0 0 0 0 0 ...\n"
     ]
    }
   ],
   "source": [
    "library(MASS)\n",
    "data(synth.tr)\n",
    "data(synth.te)\n",
    "str(synth.tr)\n",
    "\n",
    "synth.tr$yc<-factor(synth.tr$yc) #Fem el factor de y, si no el rpart hace regresion por que piensa que es numerico\n",
    "synth.te$yc<-factor(synth.te$yc)"
   ]
  },
  {
   "cell_type": "code",
   "execution_count": 17,
   "metadata": {
    "collapsed": false
   },
   "outputs": [],
   "source": [
    "require(rpart)\n",
    "source(\"prob.err.r\")\n",
    "\n",
    "synth.rpart.1<-rpart(yc~xs+ys,data=synth.tr)"
   ]
  },
  {
   "cell_type": "code",
   "execution_count": 18,
   "metadata": {
    "collapsed": false
   },
   "outputs": [
    {
     "data": {
      "image/png": "[encoded data removed]",
      "text/plain": [
       "plot without title"
      ]
     },
     "metadata": {},
     "output_type": "display_data"
    }
   ],
   "source": [
    "plot(synth.rpart.1)\n",
    "text(synth.rpart.1,use.n=TRUE,xpd=2)"
   ]
  },
  {
   "cell_type": "markdown",
   "metadata": {},
   "source": [
    "Matirz de confusion"
   ]
  },
  {
   "cell_type": "code",
   "execution_count": 20,
   "metadata": {
    "collapsed": false
   },
   "outputs": [
    {
     "data": {
      "text/plain": [
       "    Pred\n",
       "True   0   1\n",
       "   0 469  31\n",
       "   1  72 428"
      ]
     },
     "metadata": {},
     "output_type": "display_data"
    }
   ],
   "source": [
    "synth.rpart.1.pred<-predict(synth.rpart.1,synth.te,type=\"class\")\n",
    "synth.rpart.1.conf<-table(True = synth.te$yc,Pred=synth.rpart.1.pred)\n",
    "synth.rpart.1.conf"
   ]
  },
  {
   "cell_type": "markdown",
   "metadata": {},
   "source": [
    "Probabilidad de error"
   ]
  },
  {
   "cell_type": "code",
   "execution_count": 21,
   "metadata": {
    "collapsed": false
   },
   "outputs": [
    {
     "data": {
      "text/html": [
       "10.3"
      ],
      "text/latex": [
       "10.3"
      ],
      "text/markdown": [
       "10.3"
      ],
      "text/plain": [
       "[1] 10.3"
      ]
     },
     "metadata": {},
     "output_type": "display_data"
    }
   ],
   "source": [
    "prob.err(synth.rpart.1.conf)"
   ]
  },
  {
   "cell_type": "markdown",
   "metadata": {},
   "source": [
    "Parametros del rpar"
   ]
  },
  {
   "cell_type": "code",
   "execution_count": 23,
   "metadata": {
    "collapsed": false
   },
   "outputs": [],
   "source": [
    "help(rpart.control)"
   ]
  },
  {
   "cell_type": "markdown",
   "metadata": {},
   "source": [
    "Ejemplo de cambio de los parametros:\n",
    "\n",
    "*minsplit* Minimo numero de observaciones en cada nodo\n",
    "*cp* Todo split que no mejore en cp el resultado de la classificacion sera ignorado"
   ]
  },
  {
   "cell_type": "code",
   "execution_count": 25,
   "metadata": {
    "collapsed": false
   },
   "outputs": [
    {
     "data": {
      "text/plain": [
       "    Pred\n",
       "True   0   1\n",
       "   0 449  51\n",
       "   1  50 450"
      ]
     },
     "metadata": {},
     "output_type": "display_data"
    },
    {
     "data": {
      "text/html": [
       "10.1"
      ],
      "text/latex": [
       "10.1"
      ],
      "text/markdown": [
       "10.1"
      ],
      "text/plain": [
       "[1] 10.1"
      ]
     },
     "metadata": {},
     "output_type": "display_data"
    },
    {
     "data": {
      "image/png": "[encoded data removed]",
      "text/plain": [
       "plot without title"
      ]
     },
     "metadata": {},
     "output_type": "display_data"
    }
   ],
   "source": [
    "control.parms<-rpart.control(minsplit = 10,cp=0.005)\n",
    "synth.rpart.2<-\n",
    "rpart(yc~xs+ys,data=synth.tr,control=control.parms)\n",
    "plot(synth.rpart.2)\n",
    "text(synth.rpart.2,use.n=TRUE,xpd=2,cex=0.7)\n",
    "\n",
    "synth.rpart.2.pred<-\n",
    "predict(synth.rpart.2,synth.te,type=\"class\")\n",
    "synth.rpart.2.conf<-table(True = synth.te$yc,\n",
    "Pred=synth.rpart.2.pred)\n",
    "synth.rpart.2.conf\n",
    "\n",
    "prob.err(synth.rpart.2.conf)"
   ]
  },
  {
   "cell_type": "markdown",
   "metadata": {},
   "source": []
  },
  {
   "cell_type": "code",
   "execution_count": 27,
   "metadata": {
    "collapsed": false
   },
   "outputs": [
    {
     "name": "stdout",
     "output_type": "stream",
     "text": [
      "'data.frame':\t146 obs. of  8 variables:\n",
      " $ pgtime : num  6.1 9.4 5.2 3.2 1.9 4.8 5.8 7.3 3.7 15.9 ...\n",
      " $ pgstat : int  0 0 1 1 1 0 0 0 1 0 ...\n",
      " $ age    : int  64 62 59 62 64 69 75 71 73 64 ...\n",
      " $ eet    : int  2 1 2 2 2 1 2 2 2 2 ...\n",
      " $ g2     : num  10.26 NA 9.99 3.57 22.56 ...\n",
      " $ grade  : int  2 3 3 2 4 3 2 3 3 3 ...\n",
      " $ gleason: int  4 8 7 4 8 7 NA 7 6 7 ...\n",
      " $ ploidy : Factor w/ 3 levels \"diploid\",\"tetraploid\",..: 1 3 1 1 2 1 2 3 1 2 ...\n"
     ]
    }
   ],
   "source": [
    "require(rpart)\n",
    "data(stagec)\n",
    "str(stagec)\n",
    "\n",
    "stagec1<-stagec[,-(1:2)]\n",
    "stagec1$progstat <- factor(stagec$pgstat, levels=0:1, labels=c(\"No\", \"Prog\"))"
   ]
  },
  {
   "cell_type": "code",
   "execution_count": 28,
   "metadata": {
    "collapsed": false
   },
   "outputs": [
    {
     "data": {
      "text/html": [
       "12"
      ],
      "text/latex": [
       "12"
      ],
      "text/markdown": [
       "12"
      ],
      "text/plain": [
       "[1] 12"
      ]
     },
     "metadata": {},
     "output_type": "display_data"
    }
   ],
   "source": [
    "sum(!complete.cases(stagec1))\n",
    "stagec2<-stagec1[complete.cases(stagec1),]"
   ]
  },
  {
   "cell_type": "code",
   "execution_count": 35,
   "metadata": {
    "collapsed": false
   },
   "outputs": [
    {
     "data": {
      "text/html": [
       "134"
      ],
      "text/latex": [
       "134"
      ],
      "text/markdown": [
       "134"
      ],
      "text/plain": [
       "[1] 134"
      ]
     },
     "metadata": {},
     "output_type": "display_data"
    }
   ],
   "source": [
    "nrow(stagec2)"
   ]
  },
  {
   "cell_type": "code",
   "execution_count": 34,
   "metadata": {
    "collapsed": false
   },
   "outputs": [
    {
     "name": "stdout",
     "output_type": "stream",
     "text": [
      "n= 134 \n",
      "\n",
      "node), split, n, loss, yval, (yprob)\n",
      "      * denotes terminal node\n",
      "\n",
      " 1) root 134 49 No (0.6343284 0.3656716)  \n",
      "   2) grade< 2.5 56  8 No (0.8571429 0.1428571) *\n",
      "   3) grade>=2.5 78 37 Prog (0.4743590 0.5256410)  \n",
      "     6) g2< 13.2 35 14 No (0.6000000 0.4000000)  \n",
      "      12) g2>=11.845 7  1 No (0.8571429 0.1428571) *\n",
      "      13) g2< 11.845 28 13 No (0.5357143 0.4642857)  \n",
      "        26) g2< 11.005 21  8 No (0.6190476 0.3809524) *\n",
      "        27) g2>=11.005 7  2 Prog (0.2857143 0.7142857) *\n",
      "     7) g2>=13.2 43 16 Prog (0.3720930 0.6279070)  \n",
      "      14) g2>=17.91 21  8 No (0.6190476 0.3809524)  \n",
      "        28) age>=62.5 14  4 No (0.7142857 0.2857143) *\n",
      "        29) age< 62.5 7  3 Prog (0.4285714 0.5714286) *\n",
      "      15) g2< 17.91 22  3 Prog (0.1363636 0.8636364) *\n"
     ]
    },
    {
     "data": {
      "image/png": "[encoded data removed]",
      "text/plain": [
       "plot without title"
      ]
     },
     "metadata": {},
     "output_type": "display_data"
    }
   ],
   "source": [
    "\n",
    "stagec2.rpart.1<-rpart(progstat ~ age + eet + g2 + grade + gleason + ploidy,data=stagec2, method=\"class\")\n",
    "print(stagec2.rpart.1)\n",
    "plot(stagec2.rpart.1)\n",
    "text(stagec2.rpart.1)\n",
    "\n",
    "stagec2.rpart.1.pred<-\n",
    "predict(stagec2.rpart.1,synth.te,type=\"class\")\n",
    "synth.rpart.2.conf<-table(True = synth.te$yc,\n",
    "Pred=synth.rpart.2.pred)\n",
    "synth.rpart.2.conf\n",
    "\n",
    "prob.err(synth.rpart.2.conf)"
   ]
  },
  {
   "cell_type": "code",
   "execution_count": 36,
   "metadata": {
    "collapsed": false
   },
   "outputs": [
    {
     "name": "stdout",
     "output_type": "stream",
     "text": [
      "n= 134 \n",
      "\n",
      "node), split, n, loss, yval, (yprob)\n",
      "      * denotes terminal node\n",
      "\n",
      "  1) root 134 49 No (0.63432836 0.36567164)  \n",
      "    2) grade< 2.5 56  8 No (0.85714286 0.14285714)  \n",
      "      4) g2< 13.19 37  2 No (0.94594595 0.05405405) *\n",
      "      5) g2>=13.19 19  6 No (0.68421053 0.31578947)  \n",
      "       10) g2>=14.33 15  3 No (0.80000000 0.20000000)  \n",
      "         20) g2>=20.14 5  0 No (1.00000000 0.00000000) *\n",
      "         21) g2< 20.14 10  3 No (0.70000000 0.30000000)  \n",
      "           42) g2< 16.925 7  1 No (0.85714286 0.14285714) *\n",
      "           43) g2>=16.925 3  1 Prog (0.33333333 0.66666667) *\n",
      "       11) g2< 14.33 4  1 Prog (0.25000000 0.75000000) *\n",
      "    3) grade>=2.5 78 37 Prog (0.47435897 0.52564103)  \n",
      "      6) grade< 3.5 73 36 No (0.50684932 0.49315068)  \n",
      "       12) ploidy=diploid 27  9 No (0.66666667 0.33333333)  \n",
      "         24) g2>=11.95 4  0 No (1.00000000 0.00000000) *\n",
      "         25) g2< 11.95 23  9 No (0.60869565 0.39130435)  \n",
      "           50) age< 69.5 20  6 No (0.70000000 0.30000000)  \n",
      "            100) g2< 11.04 15  3 No (0.80000000 0.20000000) *\n",
      "            101) g2>=11.04 5  2 Prog (0.40000000 0.60000000) *\n",
      "           51) age>=69.5 3  0 Prog (0.00000000 1.00000000) *\n",
      "       13) ploidy=tetraploid,aneuploid 46 19 Prog (0.41304348 0.58695652)  \n",
      "         26) g2>=17.91 19  6 No (0.68421053 0.31578947)  \n",
      "           52) age>=62.5 12  2 No (0.83333333 0.16666667) *\n",
      "           53) age< 62.5 7  3 Prog (0.42857143 0.57142857) *\n",
      "         27) g2< 17.91 27  6 Prog (0.22222222 0.77777778) *\n",
      "      7) grade>=3.5 5  0 Prog (0.00000000 1.00000000) *\n",
      "\n",
      "Classification tree:\n",
      "rpart(formula = progstat ~ age + eet + g2 + grade + gleason + \n",
      "    ploidy, data = stagec2, method = \"class\", control = control.parms)\n",
      "\n",
      "Variables actually used in tree construction:\n",
      "[1] age    g2     grade  ploidy\n",
      "\n",
      "Root node error: 49/134 = 0.36567\n",
      "\n",
      "n= 134 \n",
      "\n",
      "        CP nsplit rel error xerror    xstd\n",
      "1 0.088435      0   1.00000 1.0000 0.11378\n",
      "2 0.030612      4   0.59184 1.0000 0.11378\n",
      "3 0.020408      6   0.53061 1.0612 0.11512\n",
      "4 0.010204     10   0.44898 1.1837 0.11705\n",
      "5 0.005000     12   0.42857 1.1837 0.11705\n"
     ]
    },
    {
     "data": {
      "image/png": "[encoded data removed]",
      "text/plain": [
       "plot without title"
      ]
     },
     "metadata": {},
     "output_type": "display_data"
    },
    {
     "data": {
      "image/png": "[encoded data removed]",
      "text/plain": [
       "plot without title"
      ]
     },
     "metadata": {},
     "output_type": "display_data"
    }
   ],
   "source": [
    "control.parms<-rpart.control(minsplit = 10, cp=0.005)\n",
    "stagec2.rpart.2<-rpart(progstat ~ age + eet + g2 + grade + gleason + ploidy,data=stagec2, \n",
    "\t\t\tmethod=\"class\", control=control.parms)\n",
    "print(stagec2.rpart.2)\n",
    "plot(stagec2.rpart.2)\n",
    "text(stagec2.rpart.2,cex=0.8)\n",
    "\n",
    "printcp(stagec2.rpart.2)\n",
    "plotcp(stagec2.rpart.2)"
   ]
  },
  {
   "cell_type": "markdown",
   "metadata": {},
   "source": [
    "## Poda de un arbre"
   ]
  },
  {
   "cell_type": "code",
   "execution_count": 38,
   "metadata": {
    "collapsed": false
   },
   "outputs": [
    {
     "name": "stdout",
     "output_type": "stream",
     "text": [
      "n= 134 \n",
      "\n",
      "node), split, n, loss, yval, (yprob)\n",
      "      * denotes terminal node\n",
      "\n",
      " 1) root 134 49 No (0.6343284 0.3656716)  \n",
      "   2) grade< 2.5 56  8 No (0.8571429 0.1428571) *\n",
      "   3) grade>=2.5 78 37 Prog (0.4743590 0.5256410)  \n",
      "     6) grade< 3.5 73 36 No (0.5068493 0.4931507)  \n",
      "      12) ploidy=diploid 27  9 No (0.6666667 0.3333333) *\n",
      "      13) ploidy=tetraploid,aneuploid 46 19 Prog (0.4130435 0.5869565)  \n",
      "        26) g2>=17.91 19  6 No (0.6842105 0.3157895) *\n",
      "        27) g2< 17.91 27  6 Prog (0.2222222 0.7777778) *\n",
      "     7) grade>=3.5 5  0 Prog (0.0000000 1.0000000) *\n"
     ]
    },
    {
     "data": {
      "image/png": "[encoded data removed]",
      "text/plain": [
       "plot without title"
      ]
     },
     "metadata": {},
     "output_type": "display_data"
    }
   ],
   "source": [
    "stagec2.rpart.3<-prune(stagec2.rpart.2,cp=0.052)#criterio de poda del arbol\n",
    "print(stagec2.rpart.3)\n",
    "plot(stagec2.rpart.3)\n",
    "text(stagec2.rpart.3,cex=0.8)\n"
   ]
  },
  {
   "cell_type": "code",
   "execution_count": null,
   "metadata": {
    "collapsed": true
   },
   "outputs": [],
   "source": []
  }
 ],
 "metadata": {
  "kernelspec": {
   "display_name": "R",
   "language": "R",
   "name": "ir"
  },
  "language_info": {
   "codemirror_mode": "r",
   "file_extension": ".r",
   "mimetype": "text/x-r-source",
   "name": "R",
   "pygments_lexer": "r",
   "version": "3.3.2"
  }
 },
 "nbformat": 4,
 "nbformat_minor": 0
}
