{
 "cells": [
  {
   "cell_type": "markdown",
   "metadata": {},
   "source": [
    "## Dades i packages"
   ]
  },
  {
   "cell_type": "code",
   "execution_count": 1,
   "metadata": {
    "collapsed": false
   },
   "outputs": [
    {
     "name": "stderr",
     "output_type": "stream",
     "text": [
      "Updating HTML index of packages in '.Library'\n",
      "Making 'packages.html' ... done\n"
     ]
    }
   ],
   "source": [
    "inastall.packages('ada',repos='http://cran.us.r-project.org')"
   ]
  },
  {
   "cell_type": "code",
   "execution_count": 2,
   "metadata": {
    "collapsed": false
   },
   "outputs": [
    {
     "name": "stderr",
     "output_type": "stream",
     "text": [
      "Loading required package: adabag\n",
      "Loading required package: rpart\n",
      "Loading required package: mlbench\n",
      "Loading required package: caret\n",
      "Loading required package: lattice\n",
      "Loading required package: ggplot2\n"
     ]
    }
   ],
   "source": [
    "require(ada)\n",
    "require(adabag)\n",
    "require(rpart)\n",
    "source(\"prob.err.r\")\n",
    "data(iris)\n",
    "names(iris)<-c(\"LS\",\"AS\",\"LP\",\"AP\",\"Species\")"
   ]
  },
  {
   "cell_type": "code",
   "execution_count": 3,
   "metadata": {
    "collapsed": false
   },
   "outputs": [
    {
     "name": "stderr",
     "output_type": "stream",
     "text": [
      "Loading required package: ElemStatLearn\n"
     ]
    }
   ],
   "source": [
    "require(ElemStatLearn)\n",
    "data(vowel.train)\n",
    "data(vowel.test)\n",
    "vowel.train$y<-factor(vowel.train$y)\n",
    "vowel.test$y<-factor(vowel.test$y)\n",
    "vowel.bagging <- bagging(y~ ., data=vowel.train,mfinal=10)"
   ]
  },
  {
   "cell_type": "code",
   "execution_count": 4,
   "metadata": {
    "collapsed": true
   },
   "outputs": [],
   "source": [
    "Steam<-read.table(\"DNA.splice.1.txt\", header=TRUE)"
   ]
  },
  {
   "cell_type": "markdown",
   "metadata": {},
   "source": [
    "## Continuació"
   ]
  },
  {
   "cell_type": "code",
   "execution_count": 5,
   "metadata": {
    "collapsed": true
   },
   "outputs": [],
   "source": [
    "library(ada)\n",
    "require(rpart)\n",
    "default<-rpart.control()\n",
    "stump<-rpart.control(cp=-1,maxdepth=1,minsplit=0)\n",
    "four<-rpart.control(cp= -1,maxdepth=2,minsplit=0)"
   ]
  },
  {
   "cell_type": "code",
   "execution_count": null,
   "metadata": {
    "collapsed": true
   },
   "outputs": [],
   "source": []
  }
 ],
 "metadata": {
  "kernelspec": {
   "display_name": "R",
   "language": "R",
   "name": "ir"
  },
  "language_info": {
   "codemirror_mode": "r",
   "file_extension": ".r",
   "mimetype": "text/x-r-source",
   "name": "R",
   "pygments_lexer": "r",
   "version": "3.3.2"
  }
 },
 "nbformat": 4,
 "nbformat_minor": 0
}
